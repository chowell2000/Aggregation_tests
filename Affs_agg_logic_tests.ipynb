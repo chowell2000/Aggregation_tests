{
 "cells": [
  {
   "cell_type": "code",
   "execution_count": 23,
   "metadata": {
    "collapsed": true
   },
   "outputs": [],
   "source": [
    "import pandas as pd\n",
    "import numpy as np\n",
    "import requests\n",
    "import json"
   ]
  },
  {
   "cell_type": "code",
   "execution_count": 2,
   "outputs": [],
   "source": [
    "raw = pd.read_csv(\"afss_agg.csv\")"
   ],
   "metadata": {
    "collapsed": false,
    "pycharm": {
     "name": "#%%\n"
    }
   }
  },
  {
   "cell_type": "code",
   "execution_count": 3,
   "outputs": [
    {
     "data": {
      "text/plain": "       eventdate                                               user  \\\ncount     219410                                             219410   \nunique         1                                              35912   \ntop      00:00.0  VeloCloud_SDWAN_Fabric->VeloCloud_SDWAN_Fabric...   \nfreq      219410                                                 44   \nmean         NaN                                                NaN   \nstd          NaN                                                NaN   \nmin          NaN                                                NaN   \n25%          NaN                                                NaN   \n50%          NaN                                                NaN   \n75%          NaN                                                NaN   \nmax          NaN                                                NaN   \n\n                 AppName   requestsize    request_gbs  responsesize  \\\ncount             219410  2.194100e+05  219410.000000  2.194100e+05   \nunique                84           NaN            NaN           NaN   \ntop     General Browsing           NaN            NaN           NaN   \nfreq               35903           NaN            NaN           NaN   \nmean                 NaN  3.816342e+07       0.027980  1.178340e+08   \nstd                  NaN  3.292449e+09       3.061018  5.351067e+09   \nmin                  NaN  0.000000e+00       0.000000  0.000000e+00   \n25%                  NaN  1.484000e+04       0.000000  4.336275e+04   \n50%                  NaN  3.127530e+05       0.000000  1.023204e+06   \n75%                  NaN  2.601934e+06       0.000000  3.471679e+07   \nmax                  NaN  1.022980e+12     952.000000  1.879430e+12   \n\n         response_gbs  \ncount   219410.000000  \nunique            NaN  \ntop               NaN  \nfreq              NaN  \nmean         0.068233  \nstd          4.976848  \nmin          0.000000  \n25%          0.000000  \n50%          0.000000  \n75%          0.000000  \nmax       1750.000000  ",
      "text/html": "<div>\n<style scoped>\n    .dataframe tbody tr th:only-of-type {\n        vertical-align: middle;\n    }\n\n    .dataframe tbody tr th {\n        vertical-align: top;\n    }\n\n    .dataframe thead th {\n        text-align: right;\n    }\n</style>\n<table border=\"1\" class=\"dataframe\">\n  <thead>\n    <tr style=\"text-align: right;\">\n      <th></th>\n      <th>eventdate</th>\n      <th>user</th>\n      <th>AppName</th>\n      <th>requestsize</th>\n      <th>request_gbs</th>\n      <th>responsesize</th>\n      <th>response_gbs</th>\n    </tr>\n  </thead>\n  <tbody>\n    <tr>\n      <th>count</th>\n      <td>219410</td>\n      <td>219410</td>\n      <td>219410</td>\n      <td>2.194100e+05</td>\n      <td>219410.000000</td>\n      <td>2.194100e+05</td>\n      <td>219410.000000</td>\n    </tr>\n    <tr>\n      <th>unique</th>\n      <td>1</td>\n      <td>35912</td>\n      <td>84</td>\n      <td>NaN</td>\n      <td>NaN</td>\n      <td>NaN</td>\n      <td>NaN</td>\n    </tr>\n    <tr>\n      <th>top</th>\n      <td>00:00.0</td>\n      <td>VeloCloud_SDWAN_Fabric-&gt;VeloCloud_SDWAN_Fabric...</td>\n      <td>General Browsing</td>\n      <td>NaN</td>\n      <td>NaN</td>\n      <td>NaN</td>\n      <td>NaN</td>\n    </tr>\n    <tr>\n      <th>freq</th>\n      <td>219410</td>\n      <td>44</td>\n      <td>35903</td>\n      <td>NaN</td>\n      <td>NaN</td>\n      <td>NaN</td>\n      <td>NaN</td>\n    </tr>\n    <tr>\n      <th>mean</th>\n      <td>NaN</td>\n      <td>NaN</td>\n      <td>NaN</td>\n      <td>3.816342e+07</td>\n      <td>0.027980</td>\n      <td>1.178340e+08</td>\n      <td>0.068233</td>\n    </tr>\n    <tr>\n      <th>std</th>\n      <td>NaN</td>\n      <td>NaN</td>\n      <td>NaN</td>\n      <td>3.292449e+09</td>\n      <td>3.061018</td>\n      <td>5.351067e+09</td>\n      <td>4.976848</td>\n    </tr>\n    <tr>\n      <th>min</th>\n      <td>NaN</td>\n      <td>NaN</td>\n      <td>NaN</td>\n      <td>0.000000e+00</td>\n      <td>0.000000</td>\n      <td>0.000000e+00</td>\n      <td>0.000000</td>\n    </tr>\n    <tr>\n      <th>25%</th>\n      <td>NaN</td>\n      <td>NaN</td>\n      <td>NaN</td>\n      <td>1.484000e+04</td>\n      <td>0.000000</td>\n      <td>4.336275e+04</td>\n      <td>0.000000</td>\n    </tr>\n    <tr>\n      <th>50%</th>\n      <td>NaN</td>\n      <td>NaN</td>\n      <td>NaN</td>\n      <td>3.127530e+05</td>\n      <td>0.000000</td>\n      <td>1.023204e+06</td>\n      <td>0.000000</td>\n    </tr>\n    <tr>\n      <th>75%</th>\n      <td>NaN</td>\n      <td>NaN</td>\n      <td>NaN</td>\n      <td>2.601934e+06</td>\n      <td>0.000000</td>\n      <td>3.471679e+07</td>\n      <td>0.000000</td>\n    </tr>\n    <tr>\n      <th>max</th>\n      <td>NaN</td>\n      <td>NaN</td>\n      <td>NaN</td>\n      <td>1.022980e+12</td>\n      <td>952.000000</td>\n      <td>1.879430e+12</td>\n      <td>1750.000000</td>\n    </tr>\n  </tbody>\n</table>\n</div>"
     },
     "execution_count": 3,
     "metadata": {},
     "output_type": "execute_result"
    }
   ],
   "source": [
    "raw.describe(include = 'all')"
   ],
   "metadata": {
    "collapsed": false,
    "pycharm": {
     "name": "#%%\n"
    }
   }
  },
  {
   "cell_type": "code",
   "execution_count": 4,
   "outputs": [
    {
     "data": {
      "text/plain": "Index(['eventdate', 'user', 'AppName', 'requestsize', 'request_gbs',\n       'responsesize', 'response_gbs'],\n      dtype='object')"
     },
     "execution_count": 4,
     "metadata": {},
     "output_type": "execute_result"
    }
   ],
   "source": [
    "raw.columns"
   ],
   "metadata": {
    "collapsed": false,
    "pycharm": {
     "name": "#%%\n"
    }
   }
  },
  {
   "cell_type": "code",
   "execution_count": 5,
   "outputs": [
    {
     "data": {
      "text/plain": "0"
     },
     "execution_count": 5,
     "metadata": {},
     "output_type": "execute_result"
    }
   ],
   "source": [
    "raw.isnull().sum().sum()"
   ],
   "metadata": {
    "collapsed": false,
    "pycharm": {
     "name": "#%%\n"
    }
   }
  },
  {
   "cell_type": "code",
   "execution_count": 6,
   "outputs": [],
   "source": [
    "set_of_apps = set(raw['AppName'])"
   ],
   "metadata": {
    "collapsed": false,
    "pycharm": {
     "name": "#%%\n"
    }
   }
  },
  {
   "cell_type": "code",
   "execution_count": 7,
   "outputs": [
    {
     "data": {
      "text/plain": "{'500px',\n 'ActiveCollab',\n 'Adobe Acrobat Connect',\n 'Amazon Chime',\n 'Amazon Cloud Drive',\n 'Asana',\n 'Backblaze Cloud',\n 'Baidu Cloud',\n 'BlueJeans',\n 'Box',\n 'Casimages',\n 'Circuit',\n 'ConceptBoard',\n 'Dochub',\n 'Dropbox',\n 'Dropsend',\n 'Eclipse',\n 'Filemail',\n 'GIFCreator',\n 'General Browsing',\n 'Getharvest',\n 'GigaFile',\n 'GoToMeeting',\n 'GoToWebinar',\n 'Google Calendar',\n 'Google Drive',\n 'Google Jamboard',\n 'Google Keep',\n 'Google Meet',\n 'Google Photos',\n 'Google Sites',\n 'Grosfichiers',\n 'HighTail',\n 'HootSuite',\n 'IBB',\n 'IDrive',\n 'ImageShack',\n 'Jive Software',\n 'Livestorm',\n 'LogMeIn',\n 'Lumin PDF',\n 'Microsoft Forms',\n 'Microsoft Sway',\n 'Microsoft Teams',\n 'Mightynetworks',\n 'Monday.com',\n 'MyAirBridge',\n 'Naver Cloud',\n 'Nulab',\n 'OneDrive',\n 'OneDrive (Personal)',\n 'OneDriveForBusiness',\n 'PhotoShelter',\n 'PicDrop',\n 'Rescueassist',\n 'RingCentral',\n 'SHAREit',\n 'Screencast',\n 'Screenleap',\n 'Sharefile',\n 'Sharepoint',\n 'Sharepoint Online',\n 'Skype',\n 'Slack',\n 'Smartsheet',\n 'SmugMug',\n 'Subefotos',\n 'Symphony',\n 'Syncplicity',\n 'Synology Quickconnect',\n 'Tencent Weiyun',\n 'Trello',\n 'Uploaded',\n 'WeChat Work',\n 'WebEx',\n 'Webcasts',\n 'Wetransfer',\n 'Wrike',\n 'Yammer',\n 'Yandex Disk',\n 'Zalo App',\n 'Ziggeo',\n 'Zoom',\n 'iCloud'}"
     },
     "execution_count": 7,
     "metadata": {},
     "output_type": "execute_result"
    }
   ],
   "source": [
    "set_of_apps"
   ],
   "metadata": {
    "collapsed": false,
    "pycharm": {
     "name": "#%%\n"
    }
   }
  },
  {
   "cell_type": "code",
   "execution_count": 8,
   "outputs": [],
   "source": [
    "raw['eventdate'] = pd.to_datetime(raw['eventdate'])"
   ],
   "metadata": {
    "collapsed": false,
    "pycharm": {
     "name": "#%%\n"
    }
   }
  },
  {
   "cell_type": "code",
   "execution_count": 9,
   "outputs": [],
   "source": [
    "lob_df = pd.read_excel('lob_map.xlsx', sheet_name='LOB Map')"
   ],
   "metadata": {
    "collapsed": false,
    "pycharm": {
     "name": "#%%\n"
    }
   }
  },
  {
   "cell_type": "code",
   "execution_count": 10,
   "outputs": [
    {
     "data": {
      "text/plain": "             last    first                      mail  \\\n0         Donahoe     John   john.donahoe44@nike.com   \n1          Harris  Melanie   melanie.harris@nike.com   \n2             Tau  Marcelo      marcelo.tau@nike.com   \n3           Hoyer   Collin     collin.hoyer@nike.com   \n4            Avey  Whitney     whitney.avey@nike.com   \n...           ...      ...                       ...   \n102741    Tsuruda    Emily    emily.tsuruda@nike.com   \n102742      Green    Corey      corey.green@nike.com   \n102743  Mai-Lotti    Linda  linda.mai-lotti@nike.com   \n102744      Roach  Kristin    kristin.roach@nike.com   \n102745   Hatfield   Tinker  tinker.hatfield@nike.com   \n\n                                          proxy_addresses  \\\n0       ['John.Donahoe44@nike.com', 'J.Donahoe1@nike.c...   \n1       ['MHar93@nike.mail.onmicrosoft.com', 'Melanie....   \n2       ['MTau@nike.mail.onmicrosoft.com', 'Marcelo.Ta...   \n3       ['CHoyer@nike.mail.onmicrosoft.com', 'Collin.H...   \n4       ['WAvey@nike.mail.onmicrosoft.com', 'Whitney.A...   \n...                                                   ...   \n102741  ['ETsuru@nike.mail.onmicrosoft.com', 'Emily.Ts...   \n102742  ['CGRE14@nike.mail.onmicrosoft.com', 'Corey.Gr...   \n102743  ['lmai@nike.mail.onmicrosoft.com', 'Linda.Mai-...   \n102744  ['KRoac1@nike.mail.onmicrosoft.com', 'Kristin....   \n102745  ['thatf1@nike.mail.onmicrosoft.com', 'Tinker.H...   \n\n                                                     path  \\\n0                             ['john.donahoe44@nike.com']   \n1       ['melanie.harris@nike.com', 'john.donahoe44@ni...   \n2       ['marcelo.tau@nike.com', 'melanie.harris@nike....   \n3       ['collin.hoyer@nike.com', 'marcelo.tau@nike.co...   \n4       ['whitney.avey@nike.com', 'marcelo.tau@nike.co...   \n...                                                   ...   \n102741  ['emily.tsuruda@nike.com', 'karl.gillies@nike....   \n102742  ['corey.green@nike.com', 'karl.gillies@nike.co...   \n102743  ['linda.mai-lotti@nike.com', 'liz.weldon@nike....   \n102744  ['kristin.roach@nike.com', 'dirk-jan.hameren@n...   \n102745  ['tinker.hatfield@nike.com', 'john.donahoe44@n...   \n\n                                      title            department  \\\n0                         PRESIDENT AND CEO      Glbl Admin - CEO   \n1                VP, Strategy & Development   Global Strategy Adm   \n2                     C19: VP, GOT STRATEGY   Global Strategy 098   \n3                    C19: DIR, GSM STRATEGY          GOT Strategy   \n4                        C19: SR ADMIN ASST               GMI NYC   \n...                                     ...                   ...   \n102741           MGR, GLOBAL - CATALYST OPS  Global Influncer Mkt   \n102742  DIR,GLOBAL - CATALYST MARKETING OPS  Global Influncer Mkt   \n102743       SR DIR, GLOBAL - CATALYST MKTG  Global Influncer Mkt   \n102744          SR ADMINISTRATIVE ASSISTANT       Brand Mgmt Mens   \n102745                VP, CREATIVE CONCEPTS          NXT Space TH   \n\n       samaccountname employeetype        country short_country  country_code  \\\n0              jdon20     Employee  United States            US         840.0   \n1              mhar93     Employee  United States            US         840.0   \n2                mtau     Employee  United States            US         840.0   \n3              choyer     Employee  United States            US         840.0   \n4               wavey     Employee  United States            US         840.0   \n...               ...          ...            ...           ...           ...   \n102741         etsuru     Employee  United States            US         840.0   \n102742         cgre14     Employee  United States            US         840.0   \n102743           lmai     Employee  United States            US         840.0   \n102744         kroac1     Employee  United States            US         840.0   \n102745         thatf1     Employee  United States            US         840.0   \n\n                      whencreated        firstlast                        net  \\\n0       2019-10-23 18:30:02+00:00     John Donahoe                        NaN   \n1       2019-04-30 13:03:36+00:00   Melanie Harris    melanie.harris@nike.com   \n2       2021-01-08 03:30:04+00:00      Marcelo Tau    melanie.harris@nike.com   \n3       2021-09-01 06:50:58+00:00     Collin Hoyer    melanie.harris@nike.com   \n4       2021-06-08 23:10:47+00:00     Whitney Avey    melanie.harris@nike.com   \n...                           ...              ...                        ...   \n102741  2018-10-04 17:08:42+00:00    Emily Tsuruda  dirk-jan.hameren@nike.com   \n102742  2014-01-03 06:17:15+00:00      Corey Green  dirk-jan.hameren@nike.com   \n102743  2002-08-10 03:38:51+00:00  Linda Mai-Lotti  dirk-jan.hameren@nike.com   \n102744  2016-09-20 21:48:11+00:00    Kristin Roach  dirk-jan.hameren@nike.com   \n102745  2002-08-10 03:38:50+00:00  Tinker Hatfield   tinker.hatfield@nike.com   \n\n                        exec                        st  \\\n0                        NaN                       NaN   \n1                        NaN                       NaN   \n2       marcelo.tau@nike.com                       NaN   \n3       marcelo.tau@nike.com     collin.hoyer@nike.com   \n4       marcelo.tau@nike.com     whitney.avey@nike.com   \n...                      ...                       ...   \n102741   liz.weldon@nike.com     karl.gillies@nike.com   \n102742   liz.weldon@nike.com     karl.gillies@nike.com   \n102743   liz.weldon@nike.com  linda.mai-lotti@nike.com   \n102744                   NaN                       NaN   \n102745                   NaN                       NaN   \n\n                          manager  \n0                             NaN  \n1         john.donahoe44@nike.com  \n2         melanie.harris@nike.com  \n3            marcelo.tau@nike.com  \n4            marcelo.tau@nike.com  \n...                           ...  \n102741      karl.gillies@nike.com  \n102742      karl.gillies@nike.com  \n102743        liz.weldon@nike.com  \n102744  dirk-jan.hameren@nike.com  \n102745    john.donahoe44@nike.com  \n\n[102746 rows x 18 columns]",
      "text/html": "<div>\n<style scoped>\n    .dataframe tbody tr th:only-of-type {\n        vertical-align: middle;\n    }\n\n    .dataframe tbody tr th {\n        vertical-align: top;\n    }\n\n    .dataframe thead th {\n        text-align: right;\n    }\n</style>\n<table border=\"1\" class=\"dataframe\">\n  <thead>\n    <tr style=\"text-align: right;\">\n      <th></th>\n      <th>last</th>\n      <th>first</th>\n      <th>mail</th>\n      <th>proxy_addresses</th>\n      <th>path</th>\n      <th>title</th>\n      <th>department</th>\n      <th>samaccountname</th>\n      <th>employeetype</th>\n      <th>country</th>\n      <th>short_country</th>\n      <th>country_code</th>\n      <th>whencreated</th>\n      <th>firstlast</th>\n      <th>net</th>\n      <th>exec</th>\n      <th>st</th>\n      <th>manager</th>\n    </tr>\n  </thead>\n  <tbody>\n    <tr>\n      <th>0</th>\n      <td>Donahoe</td>\n      <td>John</td>\n      <td>john.donahoe44@nike.com</td>\n      <td>['John.Donahoe44@nike.com', 'J.Donahoe1@nike.c...</td>\n      <td>['john.donahoe44@nike.com']</td>\n      <td>PRESIDENT AND CEO</td>\n      <td>Glbl Admin - CEO</td>\n      <td>jdon20</td>\n      <td>Employee</td>\n      <td>United States</td>\n      <td>US</td>\n      <td>840.0</td>\n      <td>2019-10-23 18:30:02+00:00</td>\n      <td>John Donahoe</td>\n      <td>NaN</td>\n      <td>NaN</td>\n      <td>NaN</td>\n      <td>NaN</td>\n    </tr>\n    <tr>\n      <th>1</th>\n      <td>Harris</td>\n      <td>Melanie</td>\n      <td>melanie.harris@nike.com</td>\n      <td>['MHar93@nike.mail.onmicrosoft.com', 'Melanie....</td>\n      <td>['melanie.harris@nike.com', 'john.donahoe44@ni...</td>\n      <td>VP, Strategy &amp; Development</td>\n      <td>Global Strategy Adm</td>\n      <td>mhar93</td>\n      <td>Employee</td>\n      <td>United States</td>\n      <td>US</td>\n      <td>840.0</td>\n      <td>2019-04-30 13:03:36+00:00</td>\n      <td>Melanie Harris</td>\n      <td>melanie.harris@nike.com</td>\n      <td>NaN</td>\n      <td>NaN</td>\n      <td>john.donahoe44@nike.com</td>\n    </tr>\n    <tr>\n      <th>2</th>\n      <td>Tau</td>\n      <td>Marcelo</td>\n      <td>marcelo.tau@nike.com</td>\n      <td>['MTau@nike.mail.onmicrosoft.com', 'Marcelo.Ta...</td>\n      <td>['marcelo.tau@nike.com', 'melanie.harris@nike....</td>\n      <td>C19: VP, GOT STRATEGY</td>\n      <td>Global Strategy 098</td>\n      <td>mtau</td>\n      <td>Employee</td>\n      <td>United States</td>\n      <td>US</td>\n      <td>840.0</td>\n      <td>2021-01-08 03:30:04+00:00</td>\n      <td>Marcelo Tau</td>\n      <td>melanie.harris@nike.com</td>\n      <td>marcelo.tau@nike.com</td>\n      <td>NaN</td>\n      <td>melanie.harris@nike.com</td>\n    </tr>\n    <tr>\n      <th>3</th>\n      <td>Hoyer</td>\n      <td>Collin</td>\n      <td>collin.hoyer@nike.com</td>\n      <td>['CHoyer@nike.mail.onmicrosoft.com', 'Collin.H...</td>\n      <td>['collin.hoyer@nike.com', 'marcelo.tau@nike.co...</td>\n      <td>C19: DIR, GSM STRATEGY</td>\n      <td>GOT Strategy</td>\n      <td>choyer</td>\n      <td>Employee</td>\n      <td>United States</td>\n      <td>US</td>\n      <td>840.0</td>\n      <td>2021-09-01 06:50:58+00:00</td>\n      <td>Collin Hoyer</td>\n      <td>melanie.harris@nike.com</td>\n      <td>marcelo.tau@nike.com</td>\n      <td>collin.hoyer@nike.com</td>\n      <td>marcelo.tau@nike.com</td>\n    </tr>\n    <tr>\n      <th>4</th>\n      <td>Avey</td>\n      <td>Whitney</td>\n      <td>whitney.avey@nike.com</td>\n      <td>['WAvey@nike.mail.onmicrosoft.com', 'Whitney.A...</td>\n      <td>['whitney.avey@nike.com', 'marcelo.tau@nike.co...</td>\n      <td>C19: SR ADMIN ASST</td>\n      <td>GMI NYC</td>\n      <td>wavey</td>\n      <td>Employee</td>\n      <td>United States</td>\n      <td>US</td>\n      <td>840.0</td>\n      <td>2021-06-08 23:10:47+00:00</td>\n      <td>Whitney Avey</td>\n      <td>melanie.harris@nike.com</td>\n      <td>marcelo.tau@nike.com</td>\n      <td>whitney.avey@nike.com</td>\n      <td>marcelo.tau@nike.com</td>\n    </tr>\n    <tr>\n      <th>...</th>\n      <td>...</td>\n      <td>...</td>\n      <td>...</td>\n      <td>...</td>\n      <td>...</td>\n      <td>...</td>\n      <td>...</td>\n      <td>...</td>\n      <td>...</td>\n      <td>...</td>\n      <td>...</td>\n      <td>...</td>\n      <td>...</td>\n      <td>...</td>\n      <td>...</td>\n      <td>...</td>\n      <td>...</td>\n      <td>...</td>\n    </tr>\n    <tr>\n      <th>102741</th>\n      <td>Tsuruda</td>\n      <td>Emily</td>\n      <td>emily.tsuruda@nike.com</td>\n      <td>['ETsuru@nike.mail.onmicrosoft.com', 'Emily.Ts...</td>\n      <td>['emily.tsuruda@nike.com', 'karl.gillies@nike....</td>\n      <td>MGR, GLOBAL - CATALYST OPS</td>\n      <td>Global Influncer Mkt</td>\n      <td>etsuru</td>\n      <td>Employee</td>\n      <td>United States</td>\n      <td>US</td>\n      <td>840.0</td>\n      <td>2018-10-04 17:08:42+00:00</td>\n      <td>Emily Tsuruda</td>\n      <td>dirk-jan.hameren@nike.com</td>\n      <td>liz.weldon@nike.com</td>\n      <td>karl.gillies@nike.com</td>\n      <td>karl.gillies@nike.com</td>\n    </tr>\n    <tr>\n      <th>102742</th>\n      <td>Green</td>\n      <td>Corey</td>\n      <td>corey.green@nike.com</td>\n      <td>['CGRE14@nike.mail.onmicrosoft.com', 'Corey.Gr...</td>\n      <td>['corey.green@nike.com', 'karl.gillies@nike.co...</td>\n      <td>DIR,GLOBAL - CATALYST MARKETING OPS</td>\n      <td>Global Influncer Mkt</td>\n      <td>cgre14</td>\n      <td>Employee</td>\n      <td>United States</td>\n      <td>US</td>\n      <td>840.0</td>\n      <td>2014-01-03 06:17:15+00:00</td>\n      <td>Corey Green</td>\n      <td>dirk-jan.hameren@nike.com</td>\n      <td>liz.weldon@nike.com</td>\n      <td>karl.gillies@nike.com</td>\n      <td>karl.gillies@nike.com</td>\n    </tr>\n    <tr>\n      <th>102743</th>\n      <td>Mai-Lotti</td>\n      <td>Linda</td>\n      <td>linda.mai-lotti@nike.com</td>\n      <td>['lmai@nike.mail.onmicrosoft.com', 'Linda.Mai-...</td>\n      <td>['linda.mai-lotti@nike.com', 'liz.weldon@nike....</td>\n      <td>SR DIR, GLOBAL - CATALYST MKTG</td>\n      <td>Global Influncer Mkt</td>\n      <td>lmai</td>\n      <td>Employee</td>\n      <td>United States</td>\n      <td>US</td>\n      <td>840.0</td>\n      <td>2002-08-10 03:38:51+00:00</td>\n      <td>Linda Mai-Lotti</td>\n      <td>dirk-jan.hameren@nike.com</td>\n      <td>liz.weldon@nike.com</td>\n      <td>linda.mai-lotti@nike.com</td>\n      <td>liz.weldon@nike.com</td>\n    </tr>\n    <tr>\n      <th>102744</th>\n      <td>Roach</td>\n      <td>Kristin</td>\n      <td>kristin.roach@nike.com</td>\n      <td>['KRoac1@nike.mail.onmicrosoft.com', 'Kristin....</td>\n      <td>['kristin.roach@nike.com', 'dirk-jan.hameren@n...</td>\n      <td>SR ADMINISTRATIVE ASSISTANT</td>\n      <td>Brand Mgmt Mens</td>\n      <td>kroac1</td>\n      <td>Employee</td>\n      <td>United States</td>\n      <td>US</td>\n      <td>840.0</td>\n      <td>2016-09-20 21:48:11+00:00</td>\n      <td>Kristin Roach</td>\n      <td>dirk-jan.hameren@nike.com</td>\n      <td>NaN</td>\n      <td>NaN</td>\n      <td>dirk-jan.hameren@nike.com</td>\n    </tr>\n    <tr>\n      <th>102745</th>\n      <td>Hatfield</td>\n      <td>Tinker</td>\n      <td>tinker.hatfield@nike.com</td>\n      <td>['thatf1@nike.mail.onmicrosoft.com', 'Tinker.H...</td>\n      <td>['tinker.hatfield@nike.com', 'john.donahoe44@n...</td>\n      <td>VP, CREATIVE CONCEPTS</td>\n      <td>NXT Space TH</td>\n      <td>thatf1</td>\n      <td>Employee</td>\n      <td>United States</td>\n      <td>US</td>\n      <td>840.0</td>\n      <td>2002-08-10 03:38:50+00:00</td>\n      <td>Tinker Hatfield</td>\n      <td>tinker.hatfield@nike.com</td>\n      <td>NaN</td>\n      <td>NaN</td>\n      <td>john.donahoe44@nike.com</td>\n    </tr>\n  </tbody>\n</table>\n<p>102746 rows × 18 columns</p>\n</div>"
     },
     "execution_count": 10,
     "metadata": {},
     "output_type": "execute_result"
    }
   ],
   "source": [
    "lob_df"
   ],
   "metadata": {
    "collapsed": false,
    "pycharm": {
     "name": "#%%\n"
    }
   }
  },
  {
   "cell_type": "code",
   "execution_count": 16,
   "outputs": [
    {
     "data": {
      "text/plain": "         Technology Team                ST                      Email  \\\n0  Technology Operations  Terry Radenbaugh  terry.radenbaugh@nike.com   \n1  Technology Operations  Terry Radenbaugh          p.trade1@nike.com   \n2  Technology Operations       Betsy Utley       betsy.utley@nike.com   \n3  Technology Operations    Matthew Weaver          p.mweave@nike.com   \n4  Technology Operations    Matthew Weaver    matthew.weaver@nike.com   \n\n  Subdivision First Found Last Found    Notes  \n0         NaN  2021-10-01    Current  Interim  \n1         NaN  2021-10-01    Current  Interim  \n2         NaN  2021-10-01    Current  Interim  \n3         NaN  2021-10-01    Current  Interim  \n4         NaN  2021-10-01    Current  Interim  ",
      "text/html": "<div>\n<style scoped>\n    .dataframe tbody tr th:only-of-type {\n        vertical-align: middle;\n    }\n\n    .dataframe tbody tr th {\n        vertical-align: top;\n    }\n\n    .dataframe thead th {\n        text-align: right;\n    }\n</style>\n<table border=\"1\" class=\"dataframe\">\n  <thead>\n    <tr style=\"text-align: right;\">\n      <th></th>\n      <th>Technology Team</th>\n      <th>ST</th>\n      <th>Email</th>\n      <th>Subdivision</th>\n      <th>First Found</th>\n      <th>Last Found</th>\n      <th>Notes</th>\n    </tr>\n  </thead>\n  <tbody>\n    <tr>\n      <th>0</th>\n      <td>Technology Operations</td>\n      <td>Terry Radenbaugh</td>\n      <td>terry.radenbaugh@nike.com</td>\n      <td>NaN</td>\n      <td>2021-10-01</td>\n      <td>Current</td>\n      <td>Interim</td>\n    </tr>\n    <tr>\n      <th>1</th>\n      <td>Technology Operations</td>\n      <td>Terry Radenbaugh</td>\n      <td>p.trade1@nike.com</td>\n      <td>NaN</td>\n      <td>2021-10-01</td>\n      <td>Current</td>\n      <td>Interim</td>\n    </tr>\n    <tr>\n      <th>2</th>\n      <td>Technology Operations</td>\n      <td>Betsy Utley</td>\n      <td>betsy.utley@nike.com</td>\n      <td>NaN</td>\n      <td>2021-10-01</td>\n      <td>Current</td>\n      <td>Interim</td>\n    </tr>\n    <tr>\n      <th>3</th>\n      <td>Technology Operations</td>\n      <td>Matthew Weaver</td>\n      <td>p.mweave@nike.com</td>\n      <td>NaN</td>\n      <td>2021-10-01</td>\n      <td>Current</td>\n      <td>Interim</td>\n    </tr>\n    <tr>\n      <th>4</th>\n      <td>Technology Operations</td>\n      <td>Matthew Weaver</td>\n      <td>matthew.weaver@nike.com</td>\n      <td>NaN</td>\n      <td>2021-10-01</td>\n      <td>Current</td>\n      <td>Interim</td>\n    </tr>\n  </tbody>\n</table>\n</div>"
     },
     "execution_count": 16,
     "metadata": {},
     "output_type": "execute_result"
    }
   ],
   "source": [
    "tech_df.head()"
   ],
   "metadata": {
    "collapsed": false,
    "pycharm": {
     "name": "#%%\n"
    }
   }
  },
  {
   "cell_type": "code",
   "execution_count": 24,
   "outputs": [],
   "source": [
    "\n",
    "tech_in = 'tech_domains-2.xlsx'\n",
    "tech_df = pd.read_excel(tech_in)\n",
    "tech_df = tech_df[tech_df['Last Found'] == 'Current']\n",
    "# tech_df.describe()"
   ],
   "metadata": {
    "collapsed": false,
    "pycharm": {
     "name": "#%%\n"
    }
   }
  },
  {
   "cell_type": "code",
   "execution_count": 25,
   "outputs": [],
   "source": [
    "header = {'content-type': 'application/json', 'accept': 'application/json'}\n",
    "url_geo = 'https://snkrs.prod.commerce.nikecloud.com/globalization/marketplaces/v3'\n",
    "r_geo = requests.get(url_geo, headers=header)\n",
    "geo_data = json.loads(r_geo.content)"
   ],
   "metadata": {
    "collapsed": false,
    "pycharm": {
     "name": "#%%\n"
    }
   }
  },
  {
   "cell_type": "code",
   "execution_count": 27,
   "outputs": [],
   "source": [
    "geo_df = pd.json_normalize(geo_data['objects'], 'marketplaceGroups', ['id', 'type', 'name', 'iso2Code', 'iso3Code'])\n",
    "geo_df = geo_df.rename({0: 'marketplaceGroup'}, axis=1)\n",
    "geo_df = geo_df[geo_df['marketplaceGroup'].str.contains('nikeGeo')]\n",
    "geo_df = geo_df.set_index('id')\n",
    "geo_df = geo_df.replace('', np.nan)\n",
    "geo_df['Geo'] = geo_df['marketplaceGroup'].str.split(pat=\"-\").str[1]\n",
    "geo_df = geo_df.sort_values('id')\n"
   ],
   "metadata": {
    "collapsed": false,
    "pycharm": {
     "name": "#%%\n"
    }
   }
  },
  {
   "cell_type": "code",
   "execution_count": 28,
   "outputs": [
    {
     "data": {
      "text/plain": "   marketplaceGroup     type                  name iso2Code iso3Code   Geo\nid                                                                        \nAE     nikeGeo-EMEA  COUNTRY  UNITED ARAB EMIRATES       AE      ARE  EMEA\nAR     nikeGeo-APLA  COUNTRY             ARGENTINA       AR      ARG  APLA\nAT     nikeGeo-EMEA  COUNTRY               AUSTRIA       AT      AUT  EMEA\nAU     nikeGeo-APLA  COUNTRY             AUSTRALIA       AU      AUS  APLA\nBE     nikeGeo-EMEA  COUNTRY               BELGIUM       BE      BEL  EMEA\n..              ...      ...                   ...      ...      ...   ...\nVN     nikeGeo-APLA  COUNTRY               VIETNAM       VN      VNM  APLA\nXF     nikeGeo-EMEA   REGION                AFRICA      NaN      NaN  EMEA\nXL     nikeGeo-APLA   REGION         LATIN AMERICA      NaN      NaN  APLA\nXM     nikeGeo-EMEA   REGION           MIDDLE EAST      NaN      NaN  EMEA\nZA     nikeGeo-EMEA  COUNTRY          SOUTH AFRICA       ZA      ZAF  EMEA\n\n[69 rows x 6 columns]",
      "text/html": "<div>\n<style scoped>\n    .dataframe tbody tr th:only-of-type {\n        vertical-align: middle;\n    }\n\n    .dataframe tbody tr th {\n        vertical-align: top;\n    }\n\n    .dataframe thead th {\n        text-align: right;\n    }\n</style>\n<table border=\"1\" class=\"dataframe\">\n  <thead>\n    <tr style=\"text-align: right;\">\n      <th></th>\n      <th>marketplaceGroup</th>\n      <th>type</th>\n      <th>name</th>\n      <th>iso2Code</th>\n      <th>iso3Code</th>\n      <th>Geo</th>\n    </tr>\n    <tr>\n      <th>id</th>\n      <th></th>\n      <th></th>\n      <th></th>\n      <th></th>\n      <th></th>\n      <th></th>\n    </tr>\n  </thead>\n  <tbody>\n    <tr>\n      <th>AE</th>\n      <td>nikeGeo-EMEA</td>\n      <td>COUNTRY</td>\n      <td>UNITED ARAB EMIRATES</td>\n      <td>AE</td>\n      <td>ARE</td>\n      <td>EMEA</td>\n    </tr>\n    <tr>\n      <th>AR</th>\n      <td>nikeGeo-APLA</td>\n      <td>COUNTRY</td>\n      <td>ARGENTINA</td>\n      <td>AR</td>\n      <td>ARG</td>\n      <td>APLA</td>\n    </tr>\n    <tr>\n      <th>AT</th>\n      <td>nikeGeo-EMEA</td>\n      <td>COUNTRY</td>\n      <td>AUSTRIA</td>\n      <td>AT</td>\n      <td>AUT</td>\n      <td>EMEA</td>\n    </tr>\n    <tr>\n      <th>AU</th>\n      <td>nikeGeo-APLA</td>\n      <td>COUNTRY</td>\n      <td>AUSTRALIA</td>\n      <td>AU</td>\n      <td>AUS</td>\n      <td>APLA</td>\n    </tr>\n    <tr>\n      <th>BE</th>\n      <td>nikeGeo-EMEA</td>\n      <td>COUNTRY</td>\n      <td>BELGIUM</td>\n      <td>BE</td>\n      <td>BEL</td>\n      <td>EMEA</td>\n    </tr>\n    <tr>\n      <th>...</th>\n      <td>...</td>\n      <td>...</td>\n      <td>...</td>\n      <td>...</td>\n      <td>...</td>\n      <td>...</td>\n    </tr>\n    <tr>\n      <th>VN</th>\n      <td>nikeGeo-APLA</td>\n      <td>COUNTRY</td>\n      <td>VIETNAM</td>\n      <td>VN</td>\n      <td>VNM</td>\n      <td>APLA</td>\n    </tr>\n    <tr>\n      <th>XF</th>\n      <td>nikeGeo-EMEA</td>\n      <td>REGION</td>\n      <td>AFRICA</td>\n      <td>NaN</td>\n      <td>NaN</td>\n      <td>EMEA</td>\n    </tr>\n    <tr>\n      <th>XL</th>\n      <td>nikeGeo-APLA</td>\n      <td>REGION</td>\n      <td>LATIN AMERICA</td>\n      <td>NaN</td>\n      <td>NaN</td>\n      <td>APLA</td>\n    </tr>\n    <tr>\n      <th>XM</th>\n      <td>nikeGeo-EMEA</td>\n      <td>REGION</td>\n      <td>MIDDLE EAST</td>\n      <td>NaN</td>\n      <td>NaN</td>\n      <td>EMEA</td>\n    </tr>\n    <tr>\n      <th>ZA</th>\n      <td>nikeGeo-EMEA</td>\n      <td>COUNTRY</td>\n      <td>SOUTH AFRICA</td>\n      <td>ZA</td>\n      <td>ZAF</td>\n      <td>EMEA</td>\n    </tr>\n  </tbody>\n</table>\n<p>69 rows × 6 columns</p>\n</div>"
     },
     "execution_count": 28,
     "metadata": {},
     "output_type": "execute_result"
    }
   ],
   "source": [
    "geo_df"
   ],
   "metadata": {
    "collapsed": false,
    "pycharm": {
     "name": "#%%\n"
    }
   }
  },
  {
   "cell_type": "code",
   "execution_count": 45,
   "outputs": [],
   "source": [
    "\n",
    "full_raw = raw.merge(lob_df, how='left', left_on=['user'], right_on=['mail'])\n",
    "full_raw = full_raw.merge(geo_df, how='left', left_on=['short_country'], right_on=['id'])\n",
    "full_raw = full_raw.merge(tech_df, how='left', left_on=['st'], right_on=['Email'])\n"
   ],
   "metadata": {
    "collapsed": false,
    "pycharm": {
     "name": "#%%\n"
    }
   }
  },
  {
   "cell_type": "code",
   "execution_count": 46,
   "outputs": [
    {
     "name": "stderr",
     "output_type": "stream",
     "text": [
      "/var/folders/fw/p92hvc2d5tn3kgvhsxq_p5k40000gn/T/ipykernel_50770/664345594.py:1: FutureWarning: Treating datetime data as categorical rather than numeric in `.describe` is deprecated and will be removed in a future version of pandas. Specify `datetime_is_numeric=True` to silence this warning and adopt the future behavior now.\n",
      "  full_raw.describe(include=\"all\")\n"
     ]
    },
    {
     "data": {
      "text/plain": "                  eventdate  \\\ncount                219434   \nunique                    1   \ntop     2021-11-07 00:00:00   \nfreq                 219434   \nfirst   2021-11-07 00:00:00   \nlast    2021-11-07 00:00:00   \nmean                    NaN   \nstd                     NaN   \nmin                     NaN   \n25%                     NaN   \n50%                     NaN   \n75%                     NaN   \nmax                     NaN   \n\n                                                     user           AppName  \\\ncount                                              219434            219434   \nunique                                              35912                84   \ntop     VeloCloud_SDWAN_Fabric->VeloCloud_SDWAN_Fabric...  General Browsing   \nfreq                                                   44             35906   \nfirst                                                 NaN               NaN   \nlast                                                  NaN               NaN   \nmean                                                  NaN               NaN   \nstd                                                   NaN               NaN   \nmin                                                   NaN               NaN   \n25%                                                   NaN               NaN   \n50%                                                   NaN               NaN   \n75%                                                   NaN               NaN   \nmax                                                   NaN               NaN   \n\n         requestsize    request_gbs  responsesize   response_gbs    last  \\\ncount   2.194340e+05  219434.000000  2.194340e+05  219434.000000  203060   \nunique           NaN            NaN           NaN            NaN   18000   \ntop              NaN            NaN           NaN            NaN     Lee   \nfreq             NaN            NaN           NaN            NaN    1405   \nfirst            NaN            NaN           NaN            NaN     NaN   \nlast             NaN            NaN           NaN            NaN     NaN   \nmean    3.815949e+07       0.027977  1.178486e+08       0.068244     NaN   \nstd     3.292269e+09       3.060851  5.350784e+09       4.976583     NaN   \nmin     0.000000e+00       0.000000  0.000000e+00       0.000000     NaN   \n25%     1.483925e+04       0.000000  4.335825e+04       0.000000     NaN   \n50%     3.127330e+05       0.000000  1.023154e+06       0.000000     NaN   \n75%     2.602037e+06       0.000000  3.471924e+07       0.000000     NaN   \nmax     1.022980e+12     952.000000  1.879430e+12    1750.000000     NaN   \n\n          first                       mail  ... iso2Code iso3Code     Geo  \\\ncount    203060                     203060  ...   203001   203001  203001   \nunique    10603                      33203  ...       48       48       4   \ntop     Michael  asako.tsunashima@nike.com  ...       US      USA      NA   \nfreq       1441                         18  ...   119995   119995  121368   \nfirst       NaN                        NaN  ...      NaN      NaN     NaN   \nlast        NaN                        NaN  ...      NaN      NaN     NaN   \nmean        NaN                        NaN  ...      NaN      NaN     NaN   \nstd         NaN                        NaN  ...      NaN      NaN     NaN   \nmin         NaN                        NaN  ...      NaN      NaN     NaN   \n25%         NaN                        NaN  ...      NaN      NaN     NaN   \n50%         NaN                        NaN  ...      NaN      NaN     NaN   \n75%         NaN                        NaN  ...      NaN      NaN     NaN   \nmax         NaN                        NaN  ...      NaN      NaN     NaN   \n\n              Technology Team           ST                 Email Subdivision  \\\ncount                   34699        34699                 34699        1168   \nunique                     14           72                    72           6   \ntop     Technology Operations  Emily White  emily.white@nike.com        APLA   \nfreq                     8617         6732                  6732         547   \nfirst                     NaN          NaN                   NaN         NaN   \nlast                      NaN          NaN                   NaN         NaN   \nmean                      NaN          NaN                   NaN         NaN   \nstd                       NaN          NaN                   NaN         NaN   \nmin                       NaN          NaN                   NaN         NaN   \n25%                       NaN          NaN                   NaN         NaN   \n50%                       NaN          NaN                   NaN         NaN   \n75%                       NaN          NaN                   NaN         NaN   \nmax                       NaN          NaN                   NaN         NaN   \n\n                First Found  Last Found    Notes  \ncount                 28960       34699    27816  \nunique                   10           1        7  \ntop     2021-10-01 00:00:00     Current  Interim  \nfreq                   8697       34699     8697  \nfirst   2020-04-13 00:00:00         NaN      NaN  \nlast    2021-10-01 00:00:00         NaN      NaN  \nmean                    NaN         NaN      NaN  \nstd                     NaN         NaN      NaN  \nmin                     NaN         NaN      NaN  \n25%                     NaN         NaN      NaN  \n50%                     NaN         NaN      NaN  \n75%                     NaN         NaN      NaN  \nmax                     NaN         NaN      NaN  \n\n[13 rows x 38 columns]",
      "text/html": "<div>\n<style scoped>\n    .dataframe tbody tr th:only-of-type {\n        vertical-align: middle;\n    }\n\n    .dataframe tbody tr th {\n        vertical-align: top;\n    }\n\n    .dataframe thead th {\n        text-align: right;\n    }\n</style>\n<table border=\"1\" class=\"dataframe\">\n  <thead>\n    <tr style=\"text-align: right;\">\n      <th></th>\n      <th>eventdate</th>\n      <th>user</th>\n      <th>AppName</th>\n      <th>requestsize</th>\n      <th>request_gbs</th>\n      <th>responsesize</th>\n      <th>response_gbs</th>\n      <th>last</th>\n      <th>first</th>\n      <th>mail</th>\n      <th>...</th>\n      <th>iso2Code</th>\n      <th>iso3Code</th>\n      <th>Geo</th>\n      <th>Technology Team</th>\n      <th>ST</th>\n      <th>Email</th>\n      <th>Subdivision</th>\n      <th>First Found</th>\n      <th>Last Found</th>\n      <th>Notes</th>\n    </tr>\n  </thead>\n  <tbody>\n    <tr>\n      <th>count</th>\n      <td>219434</td>\n      <td>219434</td>\n      <td>219434</td>\n      <td>2.194340e+05</td>\n      <td>219434.000000</td>\n      <td>2.194340e+05</td>\n      <td>219434.000000</td>\n      <td>203060</td>\n      <td>203060</td>\n      <td>203060</td>\n      <td>...</td>\n      <td>203001</td>\n      <td>203001</td>\n      <td>203001</td>\n      <td>34699</td>\n      <td>34699</td>\n      <td>34699</td>\n      <td>1168</td>\n      <td>28960</td>\n      <td>34699</td>\n      <td>27816</td>\n    </tr>\n    <tr>\n      <th>unique</th>\n      <td>1</td>\n      <td>35912</td>\n      <td>84</td>\n      <td>NaN</td>\n      <td>NaN</td>\n      <td>NaN</td>\n      <td>NaN</td>\n      <td>18000</td>\n      <td>10603</td>\n      <td>33203</td>\n      <td>...</td>\n      <td>48</td>\n      <td>48</td>\n      <td>4</td>\n      <td>14</td>\n      <td>72</td>\n      <td>72</td>\n      <td>6</td>\n      <td>10</td>\n      <td>1</td>\n      <td>7</td>\n    </tr>\n    <tr>\n      <th>top</th>\n      <td>2021-11-07 00:00:00</td>\n      <td>VeloCloud_SDWAN_Fabric-&gt;VeloCloud_SDWAN_Fabric...</td>\n      <td>General Browsing</td>\n      <td>NaN</td>\n      <td>NaN</td>\n      <td>NaN</td>\n      <td>NaN</td>\n      <td>Lee</td>\n      <td>Michael</td>\n      <td>asako.tsunashima@nike.com</td>\n      <td>...</td>\n      <td>US</td>\n      <td>USA</td>\n      <td>NA</td>\n      <td>Technology Operations</td>\n      <td>Emily White</td>\n      <td>emily.white@nike.com</td>\n      <td>APLA</td>\n      <td>2021-10-01 00:00:00</td>\n      <td>Current</td>\n      <td>Interim</td>\n    </tr>\n    <tr>\n      <th>freq</th>\n      <td>219434</td>\n      <td>44</td>\n      <td>35906</td>\n      <td>NaN</td>\n      <td>NaN</td>\n      <td>NaN</td>\n      <td>NaN</td>\n      <td>1405</td>\n      <td>1441</td>\n      <td>18</td>\n      <td>...</td>\n      <td>119995</td>\n      <td>119995</td>\n      <td>121368</td>\n      <td>8617</td>\n      <td>6732</td>\n      <td>6732</td>\n      <td>547</td>\n      <td>8697</td>\n      <td>34699</td>\n      <td>8697</td>\n    </tr>\n    <tr>\n      <th>first</th>\n      <td>2021-11-07 00:00:00</td>\n      <td>NaN</td>\n      <td>NaN</td>\n      <td>NaN</td>\n      <td>NaN</td>\n      <td>NaN</td>\n      <td>NaN</td>\n      <td>NaN</td>\n      <td>NaN</td>\n      <td>NaN</td>\n      <td>...</td>\n      <td>NaN</td>\n      <td>NaN</td>\n      <td>NaN</td>\n      <td>NaN</td>\n      <td>NaN</td>\n      <td>NaN</td>\n      <td>NaN</td>\n      <td>2020-04-13 00:00:00</td>\n      <td>NaN</td>\n      <td>NaN</td>\n    </tr>\n    <tr>\n      <th>last</th>\n      <td>2021-11-07 00:00:00</td>\n      <td>NaN</td>\n      <td>NaN</td>\n      <td>NaN</td>\n      <td>NaN</td>\n      <td>NaN</td>\n      <td>NaN</td>\n      <td>NaN</td>\n      <td>NaN</td>\n      <td>NaN</td>\n      <td>...</td>\n      <td>NaN</td>\n      <td>NaN</td>\n      <td>NaN</td>\n      <td>NaN</td>\n      <td>NaN</td>\n      <td>NaN</td>\n      <td>NaN</td>\n      <td>2021-10-01 00:00:00</td>\n      <td>NaN</td>\n      <td>NaN</td>\n    </tr>\n    <tr>\n      <th>mean</th>\n      <td>NaN</td>\n      <td>NaN</td>\n      <td>NaN</td>\n      <td>3.815949e+07</td>\n      <td>0.027977</td>\n      <td>1.178486e+08</td>\n      <td>0.068244</td>\n      <td>NaN</td>\n      <td>NaN</td>\n      <td>NaN</td>\n      <td>...</td>\n      <td>NaN</td>\n      <td>NaN</td>\n      <td>NaN</td>\n      <td>NaN</td>\n      <td>NaN</td>\n      <td>NaN</td>\n      <td>NaN</td>\n      <td>NaN</td>\n      <td>NaN</td>\n      <td>NaN</td>\n    </tr>\n    <tr>\n      <th>std</th>\n      <td>NaN</td>\n      <td>NaN</td>\n      <td>NaN</td>\n      <td>3.292269e+09</td>\n      <td>3.060851</td>\n      <td>5.350784e+09</td>\n      <td>4.976583</td>\n      <td>NaN</td>\n      <td>NaN</td>\n      <td>NaN</td>\n      <td>...</td>\n      <td>NaN</td>\n      <td>NaN</td>\n      <td>NaN</td>\n      <td>NaN</td>\n      <td>NaN</td>\n      <td>NaN</td>\n      <td>NaN</td>\n      <td>NaN</td>\n      <td>NaN</td>\n      <td>NaN</td>\n    </tr>\n    <tr>\n      <th>min</th>\n      <td>NaN</td>\n      <td>NaN</td>\n      <td>NaN</td>\n      <td>0.000000e+00</td>\n      <td>0.000000</td>\n      <td>0.000000e+00</td>\n      <td>0.000000</td>\n      <td>NaN</td>\n      <td>NaN</td>\n      <td>NaN</td>\n      <td>...</td>\n      <td>NaN</td>\n      <td>NaN</td>\n      <td>NaN</td>\n      <td>NaN</td>\n      <td>NaN</td>\n      <td>NaN</td>\n      <td>NaN</td>\n      <td>NaN</td>\n      <td>NaN</td>\n      <td>NaN</td>\n    </tr>\n    <tr>\n      <th>25%</th>\n      <td>NaN</td>\n      <td>NaN</td>\n      <td>NaN</td>\n      <td>1.483925e+04</td>\n      <td>0.000000</td>\n      <td>4.335825e+04</td>\n      <td>0.000000</td>\n      <td>NaN</td>\n      <td>NaN</td>\n      <td>NaN</td>\n      <td>...</td>\n      <td>NaN</td>\n      <td>NaN</td>\n      <td>NaN</td>\n      <td>NaN</td>\n      <td>NaN</td>\n      <td>NaN</td>\n      <td>NaN</td>\n      <td>NaN</td>\n      <td>NaN</td>\n      <td>NaN</td>\n    </tr>\n    <tr>\n      <th>50%</th>\n      <td>NaN</td>\n      <td>NaN</td>\n      <td>NaN</td>\n      <td>3.127330e+05</td>\n      <td>0.000000</td>\n      <td>1.023154e+06</td>\n      <td>0.000000</td>\n      <td>NaN</td>\n      <td>NaN</td>\n      <td>NaN</td>\n      <td>...</td>\n      <td>NaN</td>\n      <td>NaN</td>\n      <td>NaN</td>\n      <td>NaN</td>\n      <td>NaN</td>\n      <td>NaN</td>\n      <td>NaN</td>\n      <td>NaN</td>\n      <td>NaN</td>\n      <td>NaN</td>\n    </tr>\n    <tr>\n      <th>75%</th>\n      <td>NaN</td>\n      <td>NaN</td>\n      <td>NaN</td>\n      <td>2.602037e+06</td>\n      <td>0.000000</td>\n      <td>3.471924e+07</td>\n      <td>0.000000</td>\n      <td>NaN</td>\n      <td>NaN</td>\n      <td>NaN</td>\n      <td>...</td>\n      <td>NaN</td>\n      <td>NaN</td>\n      <td>NaN</td>\n      <td>NaN</td>\n      <td>NaN</td>\n      <td>NaN</td>\n      <td>NaN</td>\n      <td>NaN</td>\n      <td>NaN</td>\n      <td>NaN</td>\n    </tr>\n    <tr>\n      <th>max</th>\n      <td>NaN</td>\n      <td>NaN</td>\n      <td>NaN</td>\n      <td>1.022980e+12</td>\n      <td>952.000000</td>\n      <td>1.879430e+12</td>\n      <td>1750.000000</td>\n      <td>NaN</td>\n      <td>NaN</td>\n      <td>NaN</td>\n      <td>...</td>\n      <td>NaN</td>\n      <td>NaN</td>\n      <td>NaN</td>\n      <td>NaN</td>\n      <td>NaN</td>\n      <td>NaN</td>\n      <td>NaN</td>\n      <td>NaN</td>\n      <td>NaN</td>\n      <td>NaN</td>\n    </tr>\n  </tbody>\n</table>\n<p>13 rows × 38 columns</p>\n</div>"
     },
     "execution_count": 46,
     "metadata": {},
     "output_type": "execute_result"
    }
   ],
   "source": [
    "full_raw.describe(include=\"all\")"
   ],
   "metadata": {
    "collapsed": false,
    "pycharm": {
     "name": "#%%\n"
    }
   }
  },
  {
   "cell_type": "code",
   "execution_count": 47,
   "outputs": [],
   "source": [
    "full_raw['Geo'].fillna('Unknown', inplace=True)\n",
    "full_raw.loc[full_raw['mail'].isnull(), 'Geo'] = 'Unknown'\n",
    "full_raw['Technology Team'].fillna('Unknown', inplace=True)\n",
    "full_raw.loc[full_raw['mail'].isnull(), 'Technology Team'] = 'Unknown'\n",
    "full_raw['mail'].fillna('Unknown', inplace=True)\n",
    "# If an st exists but is not a Nike Technology st, use 'Non Technology'\n",
    "full_raw.loc[(full_raw['st'].notnull() & full_raw['Email'].isnull()), 'Technology Team'] = 'Non Technology'\n"
   ],
   "metadata": {
    "collapsed": false,
    "pycharm": {
     "name": "#%%\n"
    }
   }
  },
  {
   "cell_type": "code",
   "execution_count": 48,
   "outputs": [],
   "source": [
    "\n",
    "# Geos\n",
    "geo_lst = full_raw['Geo'].unique()\n",
    "geo_lst = np.append(geo_lst, \"Total\")  # Add 'Total' as a possible geo\n"
   ],
   "metadata": {
    "collapsed": false,
    "pycharm": {
     "name": "#%%\n"
    }
   }
  },
  {
   "cell_type": "code",
   "execution_count": 49,
   "outputs": [
    {
     "data": {
      "text/plain": "array(['Unknown', 'NA', 'APLA', 'EMEA', 'GC', 'Total'], dtype=object)"
     },
     "execution_count": 49,
     "metadata": {},
     "output_type": "execute_result"
    }
   ],
   "source": [
    "geo_lst"
   ],
   "metadata": {
    "collapsed": false,
    "pycharm": {
     "name": "#%%\n"
    }
   }
  },
  {
   "cell_type": "code",
   "execution_count": 50,
   "outputs": [
    {
     "data": {
      "text/plain": "['eventdate',\n 'user',\n 'AppName',\n 'requestsize',\n 'request_gbs',\n 'responsesize',\n 'response_gbs',\n 'last',\n 'first',\n 'mail',\n 'proxy_addresses',\n 'path',\n 'title',\n 'department',\n 'samaccountname',\n 'employeetype',\n 'country',\n 'short_country',\n 'country_code',\n 'whencreated',\n 'firstlast',\n 'net',\n 'exec',\n 'st',\n 'manager',\n 'marketplaceGroup',\n 'type',\n 'name',\n 'iso2Code',\n 'iso3Code',\n 'Geo',\n 'Technology Team',\n 'ST',\n 'Email',\n 'Subdivision',\n 'First Found',\n 'Last Found',\n 'Notes']"
     },
     "execution_count": 50,
     "metadata": {},
     "output_type": "execute_result"
    }
   ],
   "source": [
    "list(full_raw.columns)"
   ],
   "metadata": {
    "collapsed": false,
    "pycharm": {
     "name": "#%%\n"
    }
   }
  },
  {
   "cell_type": "code",
   "execution_count": 51,
   "outputs": [
    {
     "data": {
      "text/plain": "['eventdate',\n 'user',\n 'AppName',\n 'requestsize',\n 'responsesize',\n 'country',\n 'Geo',\n 'st',\n 'Technology Team']"
     },
     "execution_count": 51,
     "metadata": {},
     "output_type": "execute_result"
    }
   ],
   "source": [
    "['eventdate', 'user', 'AppName', 'requestsize', 'responsesize', 'country', 'Geo', 'st', 'Technology Team']"
   ],
   "metadata": {
    "collapsed": false,
    "pycharm": {
     "name": "#%%\n"
    }
   }
  },
  {
   "cell_type": "code",
   "execution_count": 51,
   "outputs": [],
   "source": [],
   "metadata": {
    "collapsed": false,
    "pycharm": {
     "name": "#%%\n"
    }
   }
  },
  {
   "cell_type": "code",
   "execution_count": 52,
   "outputs": [],
   "source": [
    "\n",
    "# Keep only these columns\n",
    "# full_raw = full_raw[['eventdate', 'recipient', 'eventType', 'classification', 'threatsInfoMap_classification_str',\n",
    "#                      'GUID', 'mail', 'country', 'Geo', 'Email', 'st', 'Technology Team']]\n",
    "\n",
    "full_raw = full_raw[['eventdate', 'user', 'mail', 'AppName', 'requestsize', 'responsesize', 'country', 'Geo', 'st', 'Technology Team']\n",
    "]\n"
   ],
   "metadata": {
    "collapsed": false,
    "pycharm": {
     "name": "#%%\n"
    }
   }
  },
  {
   "cell_type": "code",
   "execution_count": 75,
   "outputs": [],
   "source": [
    "emptymail = full_raw[full_raw['mail'] == 'Unknown'  ]\n",
    "emptymail = emptymail[~emptymail['user'].str.contains(\"@\")]"
   ],
   "metadata": {
    "collapsed": false,
    "pycharm": {
     "name": "#%%\n"
    }
   }
  },
  {
   "cell_type": "code",
   "execution_count": null,
   "outputs": [],
   "source": [
    "emptymail = full_raw[full_raw['mail'] == 'Unknown'  ]\n",
    "emptymail_2 = emptymail[emptymail['user'].str.contains(\"@\")]"
   ],
   "metadata": {
    "collapsed": false,
    "pycharm": {
     "name": "#%%\n"
    }
   }
  },
  {
   "cell_type": "code",
   "execution_count": 1,
   "outputs": [
    {
     "ename": "NameError",
     "evalue": "name 'emptymail' is not defined",
     "output_type": "error",
     "traceback": [
      "\u001B[0;31m---------------------------------------------------------------------------\u001B[0m",
      "\u001B[0;31mNameError\u001B[0m                                 Traceback (most recent call last)",
      "\u001B[0;32m/var/folders/fw/p92hvc2d5tn3kgvhsxq_p5k40000gn/T/ipykernel_19294/1547890389.py\u001B[0m in \u001B[0;36m<module>\u001B[0;34m\u001B[0m\n\u001B[0;32m----> 1\u001B[0;31m \u001B[0memptymail\u001B[0m\u001B[0;34m\u001B[0m\u001B[0;34m\u001B[0m\u001B[0m\n\u001B[0m",
      "\u001B[0;31mNameError\u001B[0m: name 'emptymail' is not defined"
     ]
    }
   ],
   "source": [
    "emptymail"
   ],
   "metadata": {
    "collapsed": false,
    "pycharm": {
     "name": "#%%\n"
    }
   }
  },
  {
   "cell_type": "code",
   "execution_count": 76,
   "outputs": [
    {
     "data": {
      "text/plain": "VeloCloud_SDWAN_Fabric->VeloCloud_SDWAN_Fabric-Guest_and_DE_Networks    44\nVeloCloud_SDWAN_Fabric->other                                           40\nWHQ - MS & MH Prod->other                                               39\nWHQ - MS & MH Prod->WHQ AirGuest                                        39\nCORP_BELGIUM_ELC_LAAKDAL_1                                              34\n                                                                        ..\nNNCTRAC                                                                  1\nRTEM00567                                                                1\nRTEM00676                                                                1\nRTEM00978                                                                1\nNLR6414->other                                                           1\nName: user, Length: 174, dtype: int64"
     },
     "execution_count": 76,
     "metadata": {},
     "output_type": "execute_result"
    }
   ],
   "source": [
    "emptymail['user'].value_counts()"
   ],
   "metadata": {
    "collapsed": false,
    "pycharm": {
     "name": "#%%\n"
    }
   }
  },
  {
   "cell_type": "code",
   "execution_count": 77,
   "outputs": [
    {
     "data": {
      "text/plain": "   eventdate         user     mail            AppName  requestsize  \\\n0 2021-11-07  Beijing hub  Unknown        Baidu Cloud      22773.0   \n1 2021-11-07  Beijing hub  Unknown                Box      10889.0   \n2 2021-11-07  Beijing hub  Unknown   General Browsing   42165423.0   \n3 2021-11-07  Beijing hub  Unknown    Microsoft Teams      93806.0   \n4 2021-11-07  Beijing hub  Unknown  Sharepoint Online        452.0   \n\n   responsesize country      Geo   st Technology Team  \n0  1.176200e+05     NaN  Unknown  NaN         Unknown  \n1  2.957350e+05     NaN  Unknown  NaN         Unknown  \n2  1.199140e+09     NaN  Unknown  NaN         Unknown  \n3  7.028380e+05     NaN  Unknown  NaN         Unknown  \n4  7.413000e+03     NaN  Unknown  NaN         Unknown  ",
      "text/html": "<div>\n<style scoped>\n    .dataframe tbody tr th:only-of-type {\n        vertical-align: middle;\n    }\n\n    .dataframe tbody tr th {\n        vertical-align: top;\n    }\n\n    .dataframe thead th {\n        text-align: right;\n    }\n</style>\n<table border=\"1\" class=\"dataframe\">\n  <thead>\n    <tr style=\"text-align: right;\">\n      <th></th>\n      <th>eventdate</th>\n      <th>user</th>\n      <th>mail</th>\n      <th>AppName</th>\n      <th>requestsize</th>\n      <th>responsesize</th>\n      <th>country</th>\n      <th>Geo</th>\n      <th>st</th>\n      <th>Technology Team</th>\n    </tr>\n  </thead>\n  <tbody>\n    <tr>\n      <th>0</th>\n      <td>2021-11-07</td>\n      <td>Beijing hub</td>\n      <td>Unknown</td>\n      <td>Baidu Cloud</td>\n      <td>22773.0</td>\n      <td>1.176200e+05</td>\n      <td>NaN</td>\n      <td>Unknown</td>\n      <td>NaN</td>\n      <td>Unknown</td>\n    </tr>\n    <tr>\n      <th>1</th>\n      <td>2021-11-07</td>\n      <td>Beijing hub</td>\n      <td>Unknown</td>\n      <td>Box</td>\n      <td>10889.0</td>\n      <td>2.957350e+05</td>\n      <td>NaN</td>\n      <td>Unknown</td>\n      <td>NaN</td>\n      <td>Unknown</td>\n    </tr>\n    <tr>\n      <th>2</th>\n      <td>2021-11-07</td>\n      <td>Beijing hub</td>\n      <td>Unknown</td>\n      <td>General Browsing</td>\n      <td>42165423.0</td>\n      <td>1.199140e+09</td>\n      <td>NaN</td>\n      <td>Unknown</td>\n      <td>NaN</td>\n      <td>Unknown</td>\n    </tr>\n    <tr>\n      <th>3</th>\n      <td>2021-11-07</td>\n      <td>Beijing hub</td>\n      <td>Unknown</td>\n      <td>Microsoft Teams</td>\n      <td>93806.0</td>\n      <td>7.028380e+05</td>\n      <td>NaN</td>\n      <td>Unknown</td>\n      <td>NaN</td>\n      <td>Unknown</td>\n    </tr>\n    <tr>\n      <th>4</th>\n      <td>2021-11-07</td>\n      <td>Beijing hub</td>\n      <td>Unknown</td>\n      <td>Sharepoint Online</td>\n      <td>452.0</td>\n      <td>7.413000e+03</td>\n      <td>NaN</td>\n      <td>Unknown</td>\n      <td>NaN</td>\n      <td>Unknown</td>\n    </tr>\n  </tbody>\n</table>\n</div>"
     },
     "execution_count": 77,
     "metadata": {},
     "output_type": "execute_result"
    }
   ],
   "source": [
    "full_raw.head()"
   ],
   "metadata": {
    "collapsed": false,
    "pycharm": {
     "name": "#%%\n"
    }
   }
  },
  {
   "cell_type": "code",
   "execution_count": 79,
   "outputs": [],
   "source": [
    "\n",
    "full_raw['Geo'].fillna('Unknown', inplace=True)\n",
    "full_raw.loc[full_raw['mail'].isnull(), 'Geo'] = 'Unknown'\n",
    "full_raw['Technology Team'].fillna('Unknown', inplace=True)\n",
    "full_raw.loc[full_raw['mail'].isnull(), 'Technology Team'] = 'Unknown'\n",
    "full_raw['mail'].fillna('Unknown', inplace=True)\n",
    "# If an st exists but is not a Nike Technology st, use 'Non Technology'\n",
    "full_raw.loc[(full_raw['st'].notnull() & full_raw['mail'].isnull()), 'Technology Team'] = 'Non Technology'\n"
   ],
   "metadata": {
    "collapsed": false,
    "pycharm": {
     "name": "#%%\n"
    }
   }
  },
  {
   "cell_type": "code",
   "execution_count": 81,
   "outputs": [
    {
     "data": {
      "text/plain": "Empty DataFrame\nColumns: [eventdate, user, mail, AppName, requestsize, responsesize, country, Geo, st, Technology Team]\nIndex: []",
      "text/html": "<div>\n<style scoped>\n    .dataframe tbody tr th:only-of-type {\n        vertical-align: middle;\n    }\n\n    .dataframe tbody tr th {\n        vertical-align: top;\n    }\n\n    .dataframe thead th {\n        text-align: right;\n    }\n</style>\n<table border=\"1\" class=\"dataframe\">\n  <thead>\n    <tr style=\"text-align: right;\">\n      <th></th>\n      <th>eventdate</th>\n      <th>user</th>\n      <th>mail</th>\n      <th>AppName</th>\n      <th>requestsize</th>\n      <th>responsesize</th>\n      <th>country</th>\n      <th>Geo</th>\n      <th>st</th>\n      <th>Technology Team</th>\n    </tr>\n  </thead>\n  <tbody>\n  </tbody>\n</table>\n</div>"
     },
     "execution_count": 81,
     "metadata": {},
     "output_type": "execute_result"
    }
   ],
   "source": [
    "full_raw.loc[(full_raw['st'].notnull() & full_raw['user'].isnull())]"
   ],
   "metadata": {
    "collapsed": false,
    "pycharm": {
     "name": "#%%\n"
    }
   }
  },
  {
   "cell_type": "code",
   "execution_count": 82,
   "outputs": [],
   "source": [
    "\n",
    "# Slice lists\n",
    "\n",
    "# Geos\n",
    "geo_lst = full_raw['Geo'].unique()\n",
    "geo_lst = np.append(geo_lst, \"Total\")  # Add 'Total' as a possible geo\n",
    "\n",
    "# Tech domains\n",
    "dom_lst = full_raw['Technology Team'].unique()\n",
    "dom_lst = np.append(dom_lst, \"Total\")  # Add 'Total' as a possible domain\n",
    "\n",
    "# Affiliation\n",
    "aff_lst = np.array(['Converse', 'Nike Exclusive', 'Total'])\n",
    "\n",
    "# Time aggregation\n",
    "time_val = [['Day', 1], ['Week', 7], ['Month', 30], ['Quarter', 90], ['Year', 365]]\n",
    "time_df = pd.DataFrame(time_val, columns=['agg', 'val'])\n",
    "time_df = time_df.set_index('agg')\n",
    "time_lst = time_df.index\n",
    "\n",
    "\n",
    "# Set index from lists of all slices\n",
    "index = pd.MultiIndex.from_product([time_lst, geo_lst, dom_lst, aff_lst],\n",
    "                                   names=['Time Agg', 'Geo', 'Tech Domain', 'Affiliation'])\n"
   ],
   "metadata": {
    "collapsed": false,
    "pycharm": {
     "name": "#%%\n"
    }
   }
  },
  {
   "cell_type": "code",
   "execution_count": 84,
   "outputs": [],
   "source": [
    "\n",
    "# Initialize series\n",
    "request_size_s = pd.Series(index=index, name='Request Size', dtype='int')\n",
    "response_size_s = pd.Series(index=index, name='Response Size', dtype='int')"
   ],
   "metadata": {
    "collapsed": false,
    "pycharm": {
     "name": "#%%\n"
    }
   }
  },
  {
   "cell_type": "code",
   "execution_count": 88,
   "outputs": [],
   "source": [
    " ato_t = full_raw\n",
    "\n",
    "t = \"Day\"\n",
    "\n",
    " for g in geo_lst:\n",
    "    # All geos combined\n",
    "    if g == 'Total':\n",
    "        ato_g = ato_t\n",
    "    # Filter the data set to the appropriate Geo\n",
    "    else:\n",
    "        ato_g = ato_t[ato_t['Geo'] == g]\n",
    "    # For each Tech domain slice\n",
    "    for d in dom_lst:\n",
    "        # All domains combined\n",
    "        if d == 'Total':\n",
    "            ato_d = ato_g\n",
    "        # Filter the data set to the appropriate domain\n",
    "        else:\n",
    "            ato_d = ato_g[ato_g['Technology Team'] == d]\n",
    "        # For each Affiliate slice\n",
    "        for a in aff_lst:\n",
    "            # All affiliates combined\n",
    "            if a == 'Total':\n",
    "                ato_a = ato_d\n",
    "            # Converse affiliate\n",
    "            elif a == 'Converse':\n",
    "                ato_a = ato_d[ato_d['mail'].str.endswith('converse.com')]\n",
    "            # Everything not Converse - Nike Exclusive\n",
    "            else:\n",
    "                ato_a = ato_d[~ato_d['mail'].str.endswith('converse.com')]\n",
    "\n",
    "            # Records of requested bytes\n",
    "            request_size_a = ato_a[\"requestsize\"].sum()\n",
    "\n",
    "\n",
    "            # Records of bytes that were allowed in response\n",
    "            response_size_a = ato_a[\"responsesize\"].sum()\n",
    "\n",
    "\n",
    "\n",
    "            # Populate series\n",
    "            request_size_s.loc[(t, g, d, a)] = request_size_a  # All requested bytes\n",
    "            response_size_s.loc[(t, g, d, a)] = request_size_a  # All bytes allowed as response\n"
   ],
   "metadata": {
    "collapsed": false,
    "pycharm": {
     "name": "#%%\n"
    }
   }
  },
  {
   "cell_type": "code",
   "execution_count": null,
   "outputs": [],
   "source": [
    "for t in time_lst:\n",
    "    # logger.info(f'Aggregating by {t}...')\n",
    "    length = int(time_df.loc[(t, 'val')])\n",
    "    # Set end time for aggregation as the beginning of the day after the latest day in the data\n",
    "    end_date = latest_time.date() + dt.timedelta(days=1)\n",
    "    end_time = dt.datetime.combine(end_date, dt.datetime.min.time())\n",
    "    # Set the start time for aggregation to a set number of days before the end time, depending on the aggregation\n",
    "    start_time = end_time - dt.timedelta(days=length)\n",
    "    # Filter the data set to the appropriate time aggregation\n",
    "    ato_t = full_raw[(full_raw['eventdate'] >= start_time) & (full_raw['eventdate'] < end_time)]\n",
    "\n",
    "    for g in geo_lst:\n",
    "        # All geos combined\n",
    "        if g == 'Total':\n",
    "            ato_g = ato_t\n",
    "        # Filter the data set to the appropriate Geo\n",
    "        else:\n",
    "            ato_g = ato_t[ato_t['Geo'] == g]\n",
    "        # For each Tech domain slice\n",
    "        for d in dom_lst:\n",
    "            # All domains combined\n",
    "            if d == 'Total':\n",
    "                ato_d = ato_g\n",
    "            # Filter the data set to the appropriate domain\n",
    "            else:\n",
    "                ato_d = ato_g[ato_g['Technology Team'] == d]\n",
    "            # For each Affiliate slice\n",
    "            for a in aff_lst:\n",
    "                # All affiliates combined\n",
    "                if a == 'Total':\n",
    "                    ato_a = ato_d\n",
    "                # Converse affiliate\n",
    "                elif a == 'Converse':\n",
    "                    ato_a = ato_d[ato_d['mail'].str.endswith('converse.com')]\n",
    "                # Everything not Converse - Nike Exclusive\n",
    "                else:\n",
    "                    ato_a = ato_d[~ato_d['mail'].str.endswith('converse.com')]\n",
    "\n",
    "                # Records of requested bytes\n",
    "                request_size_a = ato_a[\"requestsize\"].sum()\n",
    "\n",
    "\n",
    "                # Records of bytes that were allowed in response\n",
    "                response_size_a = ato_a[\"responsesize\"].sum()\n",
    "\n",
    "\n",
    "\n",
    "                # Populate series\n",
    "                request_size_s.loc[(t, g, d, a)] = request_size_a  # All requested bytes\n",
    "                response_size_s.loc[(t, g, d, a)] = request_size_a  # All bytes allowed as response\n"
   ],
   "metadata": {
    "collapsed": false,
    "pycharm": {
     "name": "#%%\n"
    }
   }
  },
  {
   "cell_type": "code",
   "execution_count": 101,
   "outputs": [
    {
     "data": {
      "text/plain": "Request Size       int64\nResponse Size      int64\nResponse GB      float64\nRequest GB       float64\ndtype: object"
     },
     "execution_count": 101,
     "metadata": {},
     "output_type": "execute_result"
    }
   ],
   "source": [
    "agg_df.dtypes"
   ],
   "metadata": {
    "collapsed": false,
    "pycharm": {
     "name": "#%%\n"
    }
   }
  },
  {
   "cell_type": "code",
   "execution_count": 99,
   "outputs": [],
   "source": [
    "# logger.info('Creating metrics dataframe...')\n",
    "agg_df = pd.concat([request_size_s, response_size_s], axis=1)\n",
    "agg_df['Response GB'] = agg_df['Response Size']/1024/1024/1024\n",
    "agg_df['Request GB'] = agg_df['Request Size']/1024/1024/1024"
   ],
   "metadata": {
    "collapsed": false,
    "pycharm": {
     "name": "#%%\n"
    }
   }
  },
  {
   "cell_type": "code",
   "execution_count": 100,
   "outputs": [
    {
     "data": {
      "text/plain": "                                                                         Request Size  \\\nTime Agg Geo     Tech Domain                            Affiliation                     \nDay      Unknown Unknown                                Converse                    0   \n                                                        Nike Exclusive  4964933385179   \n                                                        Total           4964933385179   \n                 Non Technology                         Converse                    0   \n                                                        Nike Exclusive       92176422   \n...                                                                               ...   \nYear     Total   Product Innovation & Consumer Creation Nike Exclusive              0   \n                                                        Total                       0   \n                 Total                                  Converse                    0   \n                                                        Nike Exclusive              0   \n                                                        Total                       0   \n\n                                                                        Response Size  \\\nTime Agg Geo     Tech Domain                            Affiliation                     \nDay      Unknown Unknown                                Converse                    0   \n                                                        Nike Exclusive  4964933385179   \n                                                        Total           4964933385179   \n                 Non Technology                         Converse                    0   \n                                                        Nike Exclusive       92176422   \n...                                                                               ...   \nYear     Total   Product Innovation & Consumer Creation Nike Exclusive              0   \n                                                        Total                       0   \n                 Total                                  Converse                    0   \n                                                        Nike Exclusive              0   \n                                                        Total                       0   \n\n                                                                        Response GB  \\\nTime Agg Geo     Tech Domain                            Affiliation                   \nDay      Unknown Unknown                                Converse           0.000000   \n                                                        Nike Exclusive  4623.954543   \n                                                        Total           4623.954543   \n                 Non Technology                         Converse           0.000000   \n                                                        Nike Exclusive     0.085846   \n...                                                                             ...   \nYear     Total   Product Innovation & Consumer Creation Nike Exclusive     0.000000   \n                                                        Total              0.000000   \n                 Total                                  Converse           0.000000   \n                                                        Nike Exclusive     0.000000   \n                                                        Total              0.000000   \n\n                                                                         Request GB  \nTime Agg Geo     Tech Domain                            Affiliation                  \nDay      Unknown Unknown                                Converse           0.000000  \n                                                        Nike Exclusive  4623.954543  \n                                                        Total           4623.954543  \n                 Non Technology                         Converse           0.000000  \n                                                        Nike Exclusive     0.085846  \n...                                                                             ...  \nYear     Total   Product Innovation & Consumer Creation Nike Exclusive     0.000000  \n                                                        Total              0.000000  \n                 Total                                  Converse           0.000000  \n                                                        Nike Exclusive     0.000000  \n                                                        Total              0.000000  \n\n[1530 rows x 4 columns]",
      "text/html": "<div>\n<style scoped>\n    .dataframe tbody tr th:only-of-type {\n        vertical-align: middle;\n    }\n\n    .dataframe tbody tr th {\n        vertical-align: top;\n    }\n\n    .dataframe thead th {\n        text-align: right;\n    }\n</style>\n<table border=\"1\" class=\"dataframe\">\n  <thead>\n    <tr style=\"text-align: right;\">\n      <th></th>\n      <th></th>\n      <th></th>\n      <th></th>\n      <th>Request Size</th>\n      <th>Response Size</th>\n      <th>Response GB</th>\n      <th>Request GB</th>\n    </tr>\n    <tr>\n      <th>Time Agg</th>\n      <th>Geo</th>\n      <th>Tech Domain</th>\n      <th>Affiliation</th>\n      <th></th>\n      <th></th>\n      <th></th>\n      <th></th>\n    </tr>\n  </thead>\n  <tbody>\n    <tr>\n      <th rowspan=\"5\" valign=\"top\">Day</th>\n      <th rowspan=\"5\" valign=\"top\">Unknown</th>\n      <th rowspan=\"3\" valign=\"top\">Unknown</th>\n      <th>Converse</th>\n      <td>0</td>\n      <td>0</td>\n      <td>0.000000</td>\n      <td>0.000000</td>\n    </tr>\n    <tr>\n      <th>Nike Exclusive</th>\n      <td>4964933385179</td>\n      <td>4964933385179</td>\n      <td>4623.954543</td>\n      <td>4623.954543</td>\n    </tr>\n    <tr>\n      <th>Total</th>\n      <td>4964933385179</td>\n      <td>4964933385179</td>\n      <td>4623.954543</td>\n      <td>4623.954543</td>\n    </tr>\n    <tr>\n      <th rowspan=\"2\" valign=\"top\">Non Technology</th>\n      <th>Converse</th>\n      <td>0</td>\n      <td>0</td>\n      <td>0.000000</td>\n      <td>0.000000</td>\n    </tr>\n    <tr>\n      <th>Nike Exclusive</th>\n      <td>92176422</td>\n      <td>92176422</td>\n      <td>0.085846</td>\n      <td>0.085846</td>\n    </tr>\n    <tr>\n      <th>...</th>\n      <th>...</th>\n      <th>...</th>\n      <th>...</th>\n      <td>...</td>\n      <td>...</td>\n      <td>...</td>\n      <td>...</td>\n    </tr>\n    <tr>\n      <th rowspan=\"5\" valign=\"top\">Year</th>\n      <th rowspan=\"5\" valign=\"top\">Total</th>\n      <th rowspan=\"2\" valign=\"top\">Product Innovation &amp; Consumer Creation</th>\n      <th>Nike Exclusive</th>\n      <td>0</td>\n      <td>0</td>\n      <td>0.000000</td>\n      <td>0.000000</td>\n    </tr>\n    <tr>\n      <th>Total</th>\n      <td>0</td>\n      <td>0</td>\n      <td>0.000000</td>\n      <td>0.000000</td>\n    </tr>\n    <tr>\n      <th rowspan=\"3\" valign=\"top\">Total</th>\n      <th>Converse</th>\n      <td>0</td>\n      <td>0</td>\n      <td>0.000000</td>\n      <td>0.000000</td>\n    </tr>\n    <tr>\n      <th>Nike Exclusive</th>\n      <td>0</td>\n      <td>0</td>\n      <td>0.000000</td>\n      <td>0.000000</td>\n    </tr>\n    <tr>\n      <th>Total</th>\n      <td>0</td>\n      <td>0</td>\n      <td>0.000000</td>\n      <td>0.000000</td>\n    </tr>\n  </tbody>\n</table>\n<p>1530 rows × 4 columns</p>\n</div>"
     },
     "execution_count": 100,
     "metadata": {},
     "output_type": "execute_result"
    }
   ],
   "source": [
    "agg_df"
   ],
   "metadata": {
    "collapsed": false,
    "pycharm": {
     "name": "#%%\n"
    }
   }
  },
  {
   "cell_type": "code",
   "execution_count": 95,
   "outputs": [],
   "source": [
    "agg_df.to_csv(\"Agg_test.csv\")"
   ],
   "metadata": {
    "collapsed": false,
    "pycharm": {
     "name": "#%%\n"
    }
   }
  },
  {
   "cell_type": "code",
   "execution_count": null,
   "outputs": [],
   "source": [
    "\n",
    "# Download and clean ATO data\n",
    "\n",
    "# Download ATO data from S3\n",
    "# logger.info('Getting ATO data...')\n",
    "# ato_f = f'metrics/devo/query_results/full_ato_data.csv'\n",
    "# ato_df = s3_download(ato_f)\n",
    "raw_df = pd.read_csv(\"afss_agg.csv\")\n",
    "# Fill null values in classification and threatsInfoMap_classification_str columns\n",
    "# ato_df['classification'].fillna('nothing', inplace=True)\n",
    "# ato_df['threatsInfoMap_classification_str'].fillna('nothing', inplace=True)\n",
    "\n",
    "# Filter out rows where classification or threatsInfoMap_classification_str does not contain 'phish'\n",
    "# ato_df = ato_df[(ato_df['classification'].str.lower().str.contains('phish')) |\n",
    "#                 (ato_df['threatsInfoMap_classification_str'].str.lower().str.contains('phish'))]\n",
    "\n",
    "raw_df = raw_df[]\n",
    "\n",
    "# Make all event types lower case\n",
    "# ato_df['eventType'] = ato_df['eventType'].str.lower()\n",
    "\n",
    "# Make date field datetime objects\n",
    "raw_df['eventdate'] = pd.to_datetime(afss_df['eventdate'])\n",
    "\n",
    "latest_time = raw_df['eventdate'].max()\n",
    "earliest_time = raw_df['eventdate'].min()\n",
    "\n",
    "# Sanity check to make sure min and max of datetimes are within expected range\n",
    "# logger.info(f'Oldest Date : {earliest_time}')\n",
    "# logger.info(f'Newest Date : {latest_time}')\n",
    "\n",
    "# Download LOB data from S3\n",
    "# logger.info('Getting LOB data...')\n",
    "\n",
    "# Use commented out version for online script\n",
    "# lob_f = f'lob_map/lob_map.xlsx'\n",
    "# lob_df = s3_download(lob_f, sheet='LOB Map')\n",
    "\n",
    "lob_df = pd.read_excel('lob_map.xlsx')\n",
    "\n",
    "# Download Tech Domains data from Box\n",
    "# logger.info('Getting Tech Domains data...')\n",
    "\n",
    "# Use commented out version for online script\n",
    "# tech_f = f'tech_domains.xlsx'\n",
    "# tech_folder = f'/CIS Governance/Metrics/Data/MANAGE GRC/lob_map/'\n",
    "# tech_r = box_download(tech_f, tech_folder, 5)\n",
    "# tech_in = io.BytesIO(tech_r.content)\n",
    "tech_in = 'tech_domains-2.xlsx'\n",
    "tech_df = pd.read_excel(tech_in)\n",
    "tech_df = tech_df[tech_df['Last Found'] == 'Current']\n",
    "\n",
    "# Download and clean Geo data\n",
    "\n",
    "# Get Geo data from API\n",
    "# logger.info('Getting Geo data...')\n",
    "header = {'content-type': 'application/json', 'accept': 'application/json'}\n",
    "url_geo = 'https://snkrs.prod.commerce.nikecloud.com/globalization/marketplaces/v3'\n",
    "r_geo = requests.get(url_geo, headers=header)\n",
    "geo_data = json.loads(r_geo.content)\n",
    "# logger.info('Geo data downloaded.')\n",
    "# Convert json to dataframe and move Geo data to a new column\n",
    "geo_df = pd.json_normalize(geo_data['objects'], 'marketplaceGroups', ['id', 'type', 'name', 'iso2Code', 'iso3Code'])\n",
    "geo_df = geo_df.rename({0: 'marketplaceGroup'}, axis=1)\n",
    "geo_df = geo_df[geo_df['marketplaceGroup'].str.contains('nikeGeo')]\n",
    "geo_df = geo_df.set_index('id')\n",
    "geo_df = geo_df.replace('', np.nan)\n",
    "geo_df['Geo'] = geo_df['marketplaceGroup'].str.split(pat=\"-\").str[1]\n",
    "geo_df = geo_df.sort_values('id')\n",
    "\n",
    "# Merge data sources\n",
    "# logger.info('Merging Data sources...')\n",
    "full_ato = ato_df.merge(lob_df, how='left', left_on=['recipient'], right_on=['mail'])\n",
    "full_ato = full_ato.merge(geo_df, how='left', left_on=['short_country'], right_on=['id'])\n",
    "full_ato = full_ato.merge(tech_df, how='left', left_on=['st'], right_on=['Email'])\n",
    "\n",
    "# Keep only these columns\n",
    "full_ato = full_ato[['eventdate', 'recipient', 'eventType', 'classification', 'threatsInfoMap_classification_str',\n",
    "                     'GUID', 'mail', 'country', 'Geo', 'Email', 'st', 'Technology Team']]\n",
    "\n",
    "# Fill null values of Geo and Tech domain with the appropriate values\n",
    "# logger.info('Categorizing Unknowns...')\n",
    "full_ato['Geo'].fillna('Unknown', inplace=True)\n",
    "full_ato.loc[full_ato['mail'].isnull(), 'Geo'] = 'Unknown'\n",
    "full_ato['Technology Team'].fillna('Unknown', inplace=True)\n",
    "full_ato.loc[full_ato['mail'].isnull(), 'Technology Team'] = 'Unknown'\n",
    "full_ato['mail'].fillna('Unknown', inplace=True)\n",
    "# If an st exists but is not a Nike Technology st, use 'Non Technology'\n",
    "full_ato.loc[(full_ato['st'].notnull() & full_ato['Email'].isnull()), 'Technology Team'] = 'Non Technology'\n",
    "\n",
    "# Remove duplicate rows\n",
    "full_ato = full_ato.drop_duplicates(subset=['eventType', 'GUID', 'eventdate', 'recipient'])\n",
    "\n",
    "# Slice lists\n",
    "\n",
    "# Geos\n",
    "geo_lst = full_ato['Geo'].unique()\n",
    "geo_lst = np.append(geo_lst, \"Total\")  # Add 'Total' as a possible geo\n",
    "\n",
    "# Tech domains\n",
    "dom_lst = full_ato['Technology Team'].unique()\n",
    "dom_lst = np.append(dom_lst, \"Total\")  # Add 'Total' as a possible domain\n",
    "\n",
    "# Affiliation\n",
    "aff_lst = np.array(['Converse', 'Nike Exclusive', 'Total'])\n",
    "\n",
    "# Time aggregation\n",
    "time_val = [['Day', 1], ['Week', 7], ['Month', 30], ['Quarter', 90], ['Year', 365]]\n",
    "time_df = pd.DataFrame(time_val, columns=['agg', 'val'])\n",
    "time_df = time_df.set_index('agg')\n",
    "time_lst = time_df.index\n",
    "\n",
    "# Set index from lists of all slices\n",
    "index = pd.MultiIndex.from_product([time_lst, geo_lst, dom_lst, aff_lst],\n",
    "                                   names=['Time Agg', 'Geo', 'Tech Domain', 'Affiliation'])\n",
    "\n",
    "# Initialize series\n",
    "clicks_allowed_s = pd.Series(index=index, name='Clicks Permitted', dtype='int')\n",
    "all_clicks_s = pd.Series(index=index, name='All Clicks', dtype='int')\n",
    "emails_s = pd.Series(index=index, name='Targeted Emails', dtype='int')\n",
    "del_emails_s = pd.Series(index=index, name='Emails Delivered', dtype='int')\n",
    "start_time_s = pd.Series(index=index, name='Start Time', dtype='object')\n",
    "end_time_s = pd.Series(index=index, name='End Time', dtype='object')\n",
    "\n",
    "# For each time aggregation\n",
    "for t in time_lst:\n",
    "    # logger.info(f'Aggregating by {t}...')\n",
    "    length = int(time_df.loc[(t, 'val')])\n",
    "    # Set end time for aggregation as the beginning of the day after the latest day in the data\n",
    "    end_date = latest_time.date() + dt.timedelta(days=1)\n",
    "    end_time = dt.datetime.combine(end_date, dt.datetime.min.time())\n",
    "    # Set the start time for aggregation to a set number of days before the end time, depending on the aggregation\n",
    "    start_time = end_time - dt.timedelta(days=length)\n",
    "    # Filter the data set to the appropriate time aggregation\n",
    "    ato_t = full_ato[(full_ato['eventdate'] >= start_time) & (full_ato['eventdate'] < end_time)]\n",
    "    # For each Geo slice\n",
    "    for g in geo_lst:\n",
    "        # All geos combined\n",
    "        if g == 'Total':\n",
    "            ato_g = ato_t\n",
    "        # Filter the data set to the appropriate Geo\n",
    "        else:\n",
    "            ato_g = ato_t[ato_t['Geo'] == g]\n",
    "        # For each Tech domain slice\n",
    "        for d in dom_lst:\n",
    "            # All domains combined\n",
    "            if d == 'Total':\n",
    "                ato_d = ato_g\n",
    "            # Filter the data set to the appropriate domain\n",
    "            else:\n",
    "                ato_d = ato_g[ato_g['Technology Team'] == d]\n",
    "            # For each Affiliate slice\n",
    "            for a in aff_lst:\n",
    "                # All affiliates combined\n",
    "                if a == 'Total':\n",
    "                    ato_a = ato_d\n",
    "                # Converse affiliate\n",
    "                elif a == 'Converse':\n",
    "                    ato_a = ato_d[ato_d['mail'].str.endswith('converse.com')]\n",
    "                # Everything not Converse - Nike Exclusive\n",
    "                else:\n",
    "                    ato_a = ato_d[~ato_d['mail'].str.endswith('converse.com')]\n",
    "\n",
    "                # Records of clicked emails\n",
    "                all_clicks_a = ato_a[(ato_a['eventType'] == 'clickspermitted') |\n",
    "                                     (ato_a['eventType'] == 'clicksblocked')]\n",
    "                # Records of clicked emails that were allowed to proceed\n",
    "                clicks_allowed_a = ato_a[ato_a['eventType'] == 'clickspermitted']\n",
    "                # Records of all emails delivered to recipients\n",
    "                emails_delivered_a = ato_a[~(ato_a['eventType'] == 'messagesblocked')]\n",
    "\n",
    "                # Populate series\n",
    "                all_clicks_s.loc[(t, g, d, a)] = len(all_clicks_a)  # All clicked emails\n",
    "                clicks_allowed_s.loc[(t, g, d, a)] = len(clicks_allowed_a)  # All clicked emails allowed to proceed\n",
    "                emails_s.loc[(t, g, d, a)] = len(ato_a)  # All targeted emails\n",
    "                del_emails_s.loc[(t, g, d, a)] = len(emails_delivered_a)  # All delivered emails\n",
    "                start_time_s.loc[(t, g, d, a)] = start_time  # Start time for aggregation\n",
    "                end_time_s.loc[(t, g, d, a)] = end_time  # End time for aggregation\n",
    "\n",
    "# logger.info('Creating metrics dataframe...')\n",
    "agg_df = pd.concat([all_clicks_s, clicks_allowed_s, emails_s, del_emails_s, start_time_s, end_time_s], axis=1)\n",
    "\n",
    "# ATO Metric - The % of targeted phishing emails clicked by users and permitted by Proofpoint\n",
    "agg_df['ATO Metric'] = 100*(clicks_allowed_s / emails_s)\n",
    "agg_df.loc[agg_df['ATO Metric'].isnull(), 'ATO Metric'] = 0.0\n",
    "agg_df['ATO Metric'] = agg_df['ATO Metric'].map('{:,.2f}%'.format)\n",
    "\n",
    "# User performance metric - The % of phishing emails delivered to recipients that were clicked\n",
    "agg_df['User Metric'] = 100*(all_clicks_s / del_emails_s)\n",
    "agg_df.loc[agg_df['User Metric'].isnull(), 'User Metric'] = 0.0\n",
    "agg_df['User Metric'] = agg_df['User Metric'].map('{:,.2f}%'.format)\n",
    "\n",
    "# Date report was built\n",
    "agg_df['Report Date'] = dt.date.today()\n",
    "\n",
    "# Download historical data from Box\n",
    "box_ato_down = '/CIS Governance/Metrics/Data/DETECT AND RESPOND TO MALICIOUS ACTIVITY/ATO/'\n",
    "ato_hist_f = 'ato_agg.csv'\n",
    "ato_hist_r = box_download(ato_hist_f, box_ato_down, 5)\n",
    "ato_hist_in = io.StringIO(ato_hist_r.text)\n",
    "ato_hist_df = pd.read_csv(ato_hist_in)\n",
    "ato_hist_df = ato_hist_df.set_index(['Time Agg', 'Geo', 'Tech Domain', 'Affiliation'])\n",
    "\n",
    "# Check to see when the historical metrics data was last updated\n",
    "last_run = pd.to_datetime(ato_hist_df['Report Date']).dt.date.max()\n",
    "time_since_last = (dt.date.today() - last_run) / dt.timedelta(days=1)\n",
    "# logger.info(f'{time_since_last} days since last update')\n",
    "# If it hasn't been updated today, append today's metrics to the historical data and upload\n",
    "if time_since_last >= 1:\n",
    "    ato_hist_df = ato_hist_df.append(agg_df)\n",
    "    ato_hist_df.to_csv(ato_hist_f)\n",
    "    # logger.info(f'Appending to metrics history files...')\n",
    "    box_ato_up = 'CIS Governance/Metrics/Data/DETECT AND RESPOND TO MALICIOUS ACTIVITY/ATO/'\n",
    "    box_upload(ato_hist_f, box_ato_up, 5)\n",
    "# If it has been updated today, don't append or upload\n",
    "else:\n",
    "    # logger.warning(f'Metrics history up to date')\n",
    "\n"
   ],
   "metadata": {
    "collapsed": false,
    "pycharm": {
     "name": "#%%\n"
    }
   }
  },
  {
   "cell_type": "code",
   "execution_count": null,
   "outputs": [],
   "source": [],
   "metadata": {
    "collapsed": false,
    "pycharm": {
     "name": "#%%\n"
    }
   }
  },
  {
   "cell_type": "code",
   "execution_count": null,
   "outputs": [],
   "source": [],
   "metadata": {
    "collapsed": false,
    "pycharm": {
     "name": "#%%\n"
    }
   }
  }
 ],
 "metadata": {
  "kernelspec": {
   "display_name": "Python 3",
   "language": "python",
   "name": "python3"
  },
  "language_info": {
   "codemirror_mode": {
    "name": "ipython",
    "version": 2
   },
   "file_extension": ".py",
   "mimetype": "text/x-python",
   "name": "python",
   "nbconvert_exporter": "python",
   "pygments_lexer": "ipython2",
   "version": "2.7.6"
  }
 },
 "nbformat": 4,
 "nbformat_minor": 0
}