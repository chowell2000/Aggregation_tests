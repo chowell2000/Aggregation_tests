{
 "cells": [
  {
   "cell_type": "code",
   "execution_count": 1,
   "metadata": {
    "collapsed": true
   },
   "outputs": [],
   "source": [
    "import pandas as pd\n",
    "import numpy as np\n",
    "import re\n",
    "import requests\n",
    "import json\n",
    "\n",
    "from datetime import date, timedelta"
   ]
  },
  {
   "cell_type": "code",
   "execution_count": 2,
   "outputs": [],
   "source": [
    "# Generate file names for past data\n",
    "\n",
    "def filedaterange(start_date, end_date):\n",
    "    for n in range(int((end_date - start_date).days)):\n",
    "        file_date = start_date + timedelta(n)\n",
    "        file_date_stamp = re.sub('\\-', '', file_date.strftime(\"%Y-%m-%d\"))\n",
    "        yield \"afss_agg-\" + file_date_stamp + \".csv\"\n"
   ],
   "metadata": {
    "collapsed": false,
    "pycharm": {
     "name": "#%%\n"
    }
   }
  },
  {
   "cell_type": "code",
   "execution_count": 3,
   "outputs": [],
   "source": [
    "final_columns = ['eventdate', 'user', 'AppName', 'requestsize',\n",
    "                 'responsesize']\n",
    "\n",
    "raw_df = pd.DataFrame(columns=final_columns)\n",
    "raw_df = raw_df.astype({'requestsize': int, \"responsesize\": int })"
   ],
   "metadata": {
    "collapsed": false,
    "pycharm": {
     "name": "#%%\n"
    }
   }
  },
  {
   "cell_type": "code",
   "execution_count": 4,
   "outputs": [
    {
     "name": "stdout",
     "output_type": "stream",
     "text": [
      "geting file   afss_agg-20210902.csv\n",
      "geting file   afss_agg-20210903.csv\n",
      "geting file   afss_agg-20210904.csv\n",
      "geting file   afss_agg-20210905.csv\n",
      "geting file   afss_agg-20210906.csv\n",
      "geting file   afss_agg-20210907.csv\n",
      "geting file   afss_agg-20210908.csv\n",
      "geting file   afss_agg-20210909.csv\n",
      "geting file   afss_agg-20210910.csv\n",
      "geting file   afss_agg-20210911.csv\n",
      "geting file   afss_agg-20210912.csv\n",
      "geting file   afss_agg-20210913.csv\n",
      "geting file   afss_agg-20210914.csv\n",
      "geting file   afss_agg-20210915.csv\n",
      "geting file   afss_agg-20210916.csv\n",
      "geting file   afss_agg-20210917.csv\n",
      "geting file   afss_agg-20210918.csv\n",
      "geting file   afss_agg-20210919.csv\n",
      "geting file   afss_agg-20210920.csv\n",
      "geting file   afss_agg-20210921.csv\n",
      "geting file   afss_agg-20210922.csv\n",
      "geting file   afss_agg-20210923.csv\n",
      "geting file   afss_agg-20210924.csv\n",
      "geting file   afss_agg-20210925.csv\n",
      "geting file   afss_agg-20210926.csv\n",
      "geting file   afss_agg-20210927.csv\n",
      "geting file   afss_agg-20210928.csv\n",
      "geting file   afss_agg-20210929.csv\n",
      "geting file   afss_agg-20210930.csv\n",
      "geting file   afss_agg-20211001.csv\n",
      "geting file   afss_agg-20211002.csv\n",
      "geting file   afss_agg-20211003.csv\n",
      "geting file   afss_agg-20211004.csv\n"
     ]
    }
   ],
   "source": [
    "start_date = date(2021, 9, 2)\n",
    "end_date = date(2021, 10, 5)\n",
    "for file_name in filedaterange(start_date, end_date):\n",
    "    # file_date = single_date.strftime(\"%Y-%m-%d\")\n",
    "    # file_date_stamp = re.sub('\\-', '', file_date)\n",
    "    # file_date_stamp = re.sub('\\-', '', single_date.strftime(\"%Y-%m-%d\"))\n",
    "    print(\"geting file   \" + file_name)\n",
    "    input_df = pd.read_csv(file_name)\n",
    "    input_df = input_df[final_columns]\n",
    "    input_df['eventdate'] = pd.to_datetime(input_df['eventdate'])\n",
    "    # input_df[['requestsize', 'responsesize']] = input_df[['requestsize', 'responsesize']].apply(pd.to_numeric)\n",
    "    # print(input_df.dtypes)\n",
    "    raw_df = raw_df.append(input_df)\n",
    "\n"
   ],
   "metadata": {
    "collapsed": false,
    "pycharm": {
     "name": "#%%\n"
    }
   }
  },
  {
   "cell_type": "code",
   "execution_count": 5,
   "outputs": [],
   "source": [
    "# Read list of approved and streaming apps and create set of apps\n",
    "apps = pd.read_csv(\"afss_approved_apps.csv\")\n",
    "\n",
    "set_of_apps = set(apps['AppName'].unique())"
   ],
   "metadata": {
    "collapsed": false,
    "pycharm": {
     "name": "#%%\n"
    }
   }
  },
  {
   "cell_type": "code",
   "execution_count": 6,
   "outputs": [],
   "source": [
    "def determine_type(appname):\n",
    "    if appname in set_of_apps:\n",
    "        return apps[apps['AppName'] == appname]['Disposition'].item()\n",
    "    else:\n",
    "        return \"Uncategorized\"\n"
   ],
   "metadata": {
    "collapsed": false,
    "pycharm": {
     "name": "#%%\n"
    }
   }
  },
  {
   "cell_type": "code",
   "execution_count": 7,
   "outputs": [],
   "source": [
    "\n",
    "# Tag each appname with either 'Approved', 'Streaming', 'Blacklist', or 'Uncategorized'\n",
    "raw_df['type'] = raw_df['AppName'].map(determine_type)\n",
    "\n",
    "# Remove iCloud from data\n",
    "raw_df = raw_df[raw_df['AppName'] != 'iCloud']\n",
    "\n",
    "# Remove General Browsing category\n",
    "raw_df = raw_df[raw_df['AppName'] != 'generalbrowsing']\n",
    "raw_df = raw_df[raw_df['AppName'] != 'General Browsing']\n",
    "\n",
    "# Remove streaming from data\n",
    "raw_df = raw_df[raw_df['type'] != 'Streaming']\n",
    "\n",
    "# Remove Video Conferencing solutions (like Zoom) from the data set\n",
    "raw_df = raw_df[raw_df['type'] != 'VideoConference']\n"
   ],
   "metadata": {
    "collapsed": false,
    "pycharm": {
     "name": "#%%\n"
    }
   }
  },
  {
   "cell_type": "code",
   "execution_count": 10,
   "outputs": [],
   "source": [
    "unclassed = raw_df[raw_df['type'] == 'Uncategorized']"
   ],
   "metadata": {
    "collapsed": false,
    "pycharm": {
     "name": "#%%\n"
    }
   }
  },
  {
   "cell_type": "code",
   "execution_count": 11,
   "outputs": [],
   "source": [
    "classed = raw_df[raw_df['type'] != 'Uncategorized']"
   ],
   "metadata": {
    "collapsed": false,
    "pycharm": {
     "name": "#%%\n"
    }
   }
  },
  {
   "cell_type": "code",
   "execution_count": 16,
   "outputs": [],
   "source": [
    "unapps = list(unclassed['AppName'].unique())"
   ],
   "metadata": {
    "collapsed": false,
    "pycharm": {
     "name": "#%%\n"
    }
   }
  },
  {
   "cell_type": "code",
   "execution_count": 22,
   "outputs": [],
   "source": [
    "unclassed = unclassed[['eventdate', 'AppName', 'requestsize', 'responsesize']]"
   ],
   "metadata": {
    "collapsed": false,
    "pycharm": {
     "name": "#%%\n"
    }
   }
  },
  {
   "cell_type": "code",
   "execution_count": 39,
   "outputs": [
    {
     "name": "stderr",
     "output_type": "stream",
     "text": [
      "/var/folders/fw/p92hvc2d5tn3kgvhsxq_p5k40000gn/T/ipykernel_88695/1843515495.py:1: FutureWarning: Indexing with multiple keys (implicitly converted to a tuple of keys) will be deprecated, use a list instead.\n",
      "  unclassed_dates = unclassed.groupby(['eventdate', 'AppName'], as_index=False)['requestsize', 'responsesize'].sum()\n"
     ]
    }
   ],
   "source": [
    "unclassed_dates = unclassed.groupby(['eventdate', 'AppName'])['requestsize', 'responsesize'].sum()"
   ],
   "metadata": {
    "collapsed": false,
    "pycharm": {
     "name": "#%%\n"
    }
   }
  },
  {
   "cell_type": "code",
   "execution_count": 38,
   "outputs": [
    {
     "ename": "AttributeError",
     "evalue": "'DataFrame' object has no attribute 'type'",
     "output_type": "error",
     "traceback": [
      "\u001B[0;31m---------------------------------------------------------------------------\u001B[0m",
      "\u001B[0;31mAttributeError\u001B[0m                            Traceback (most recent call last)",
      "\u001B[0;32m/var/folders/fw/p92hvc2d5tn3kgvhsxq_p5k40000gn/T/ipykernel_88695/2638005611.py\u001B[0m in \u001B[0;36m<module>\u001B[0;34m\u001B[0m\n\u001B[0;32m----> 1\u001B[0;31m \u001B[0munclassed_dates\u001B[0m\u001B[0;34m.\u001B[0m\u001B[0mtype\u001B[0m\u001B[0;34m\u001B[0m\u001B[0;34m\u001B[0m\u001B[0m\n\u001B[0m",
      "\u001B[0;32m~/anaconda3/envs/Data/lib/python3.9/site-packages/pandas/core/generic.py\u001B[0m in \u001B[0;36m__getattr__\u001B[0;34m(self, name)\u001B[0m\n\u001B[1;32m   5485\u001B[0m         ):\n\u001B[1;32m   5486\u001B[0m             \u001B[0;32mreturn\u001B[0m \u001B[0mself\u001B[0m\u001B[0;34m[\u001B[0m\u001B[0mname\u001B[0m\u001B[0;34m]\u001B[0m\u001B[0;34m\u001B[0m\u001B[0;34m\u001B[0m\u001B[0m\n\u001B[0;32m-> 5487\u001B[0;31m         \u001B[0;32mreturn\u001B[0m \u001B[0mobject\u001B[0m\u001B[0;34m.\u001B[0m\u001B[0m__getattribute__\u001B[0m\u001B[0;34m(\u001B[0m\u001B[0mself\u001B[0m\u001B[0;34m,\u001B[0m \u001B[0mname\u001B[0m\u001B[0;34m)\u001B[0m\u001B[0;34m\u001B[0m\u001B[0;34m\u001B[0m\u001B[0m\n\u001B[0m\u001B[1;32m   5488\u001B[0m \u001B[0;34m\u001B[0m\u001B[0m\n\u001B[1;32m   5489\u001B[0m     \u001B[0;32mdef\u001B[0m \u001B[0m__setattr__\u001B[0m\u001B[0;34m(\u001B[0m\u001B[0mself\u001B[0m\u001B[0;34m,\u001B[0m \u001B[0mname\u001B[0m\u001B[0;34m:\u001B[0m \u001B[0mstr\u001B[0m\u001B[0;34m,\u001B[0m \u001B[0mvalue\u001B[0m\u001B[0;34m)\u001B[0m \u001B[0;34m->\u001B[0m \u001B[0;32mNone\u001B[0m\u001B[0;34m:\u001B[0m\u001B[0;34m\u001B[0m\u001B[0;34m\u001B[0m\u001B[0m\n",
      "\u001B[0;31mAttributeError\u001B[0m: 'DataFrame' object has no attribute 'type'"
     ]
    }
   ],
   "source": [
    "unclassed_dates"
   ],
   "metadata": {
    "collapsed": false,
    "pycharm": {
     "name": "#%%\n"
    }
   }
  },
  {
   "cell_type": "code",
   "execution_count": null,
   "outputs": [],
   "source": [],
   "metadata": {
    "collapsed": false,
    "pycharm": {
     "name": "#%%\n"
    }
   }
  },
  {
   "cell_type": "code",
   "execution_count": null,
   "outputs": [],
   "source": [
    "latest_time = full_raw['eventdate'].max()\n",
    "earliest_time = full_raw['eventdate'].min()\n"
   ],
   "metadata": {
    "collapsed": false,
    "pycharm": {
     "name": "#%%\n"
    }
   }
  },
  {
   "cell_type": "code",
   "execution_count": null,
   "outputs": [],
   "source": [
    "latest_time, earliest_time"
   ],
   "metadata": {
    "collapsed": false,
    "pycharm": {
     "name": "#%%\n"
    }
   }
  },
  {
   "cell_type": "code",
   "execution_count": 182,
   "outputs": [
    {
     "data": {
      "text/plain": "Index(['Day', 'Week', 'Month', 'Quarter', 'Year'], dtype='object', name='agg')"
     },
     "execution_count": 182,
     "metadata": {},
     "output_type": "execute_result"
    }
   ],
   "source": [
    "time_lst"
   ],
   "metadata": {
    "collapsed": false,
    "pycharm": {
     "name": "#%%\n"
    }
   }
  },
  {
   "cell_type": "code",
   "execution_count": 156,
   "outputs": [],
   "source": [
    "import datetime as dt"
   ],
   "metadata": {
    "collapsed": false,
    "pycharm": {
     "name": "#%%\n"
    }
   }
  },
  {
   "cell_type": "code",
   "execution_count": 187,
   "outputs": [],
   "source": [
    "end_date = latest_time.date() + dt.timedelta(days=1)\n",
    "end_time = dt.datetime.combine(end_date, dt.datetime.min.time())\n",
    "# Set the start time for aggregation to a set number of days before the end time, depending on the aggregation\n",
    "start_time = end_time - dt.timedelta(days=30)\n",
    "# Filter the data set to the appropriate time aggregation\n",
    "ato_t = full_raw[(full_raw['eventdate'] >= start_time) & (full_raw['eventdate'] < end_time)]"
   ],
   "metadata": {
    "collapsed": false,
    "pycharm": {
     "name": "#%%\n"
    }
   }
  },
  {
   "cell_type": "code",
   "execution_count": null,
   "outputs": [],
   "source": [
    "full_raw.memory_usage(deep=True)"
   ],
   "metadata": {
    "collapsed": false,
    "pycharm": {
     "name": "#%%\n"
    }
   }
  },
  {
   "cell_type": "code",
   "execution_count": null,
   "outputs": [],
   "source": [
    "raw_df.memory_usage(deep=True)"
   ],
   "metadata": {
    "collapsed": false,
    "pycharm": {
     "name": "#%%\n"
    }
   }
  },
  {
   "cell_type": "code",
   "execution_count": null,
   "outputs": [],
   "source": [
    "full_raw.memory_usage(deep=True).sum()/1024/1024/1024"
   ],
   "metadata": {
    "collapsed": false,
    "pycharm": {
     "name": "#%%\n"
    }
   }
  },
  {
   "cell_type": "code",
   "execution_count": 163,
   "outputs": [],
   "source": [
    "agg_df.to_csv(\"Agg_test_2.csv\")"
   ],
   "metadata": {
    "collapsed": false,
    "pycharm": {
     "name": "#%%\n"
    }
   }
  },
  {
   "cell_type": "code",
   "execution_count": 221,
   "outputs": [],
   "source": [
    "blocks = pd.read_csv(\"blocks_300k.csv\")"
   ],
   "metadata": {
    "collapsed": false,
    "pycharm": {
     "name": "#%%\n"
    }
   }
  },
  {
   "cell_type": "code",
   "execution_count": 223,
   "outputs": [
    {
     "data": {
      "text/plain": "       eventdate      event_id                               reason   action  \\\ncount     300000  3.000000e+05                               300000   300000   \nunique         1           NaN                                   18        1   \ntop       2/9/21           NaN  Not allowed to browse this category  Blocked   \nfreq      300000           NaN                               248534   300000   \nmean         NaN  6.930000e+18                                  NaN      NaN   \nstd          NaN  2.905912e+07                                  NaN      NaN   \nmin          NaN  6.930000e+18                                  NaN      NaN   \n25%          NaN  6.930000e+18                                  NaN      NaN   \n50%          NaN  6.930000e+18                                  NaN      NaN   \n75%          NaN  6.930000e+18                                  NaN      NaN   \nmax          NaN  6.930000e+18                                  NaN      NaN   \n\n                appclass           appname urlcategory      clientIP  \\\ncount             300000            300000      300000        300000   \nunique                 7                11          45          2871   \ntop     General Browsing  General Browsing    Gambling  192.168.0.19   \nfreq              219311            219311       82993         80485   \nmean                 NaN               NaN         NaN           NaN   \nstd                  NaN               NaN         NaN           NaN   \nmin                  NaN               NaN         NaN           NaN   \n25%                  NaN               NaN         NaN           NaN   \n50%                  NaN               NaN         NaN           NaN   \n75%                  NaN               NaN         NaN           NaN   \nmax                  NaN               NaN         NaN           NaN   \n\n            deviceName                      user            hostname     count  \ncount           207538                    300000              300000  300000.0  \nunique            3040                      4198                1211       NaN  \ntop     APN0JG5J1300F8  jahan.behbahany@nike.com  ip-orp.sbtech.info       NaN  \nfreq             81895                     81895               81891       NaN  \nmean               NaN                       NaN                 NaN       1.0  \nstd                NaN                       NaN                 NaN       0.0  \nmin                NaN                       NaN                 NaN       1.0  \n25%                NaN                       NaN                 NaN       1.0  \n50%                NaN                       NaN                 NaN       1.0  \n75%                NaN                       NaN                 NaN       1.0  \nmax                NaN                       NaN                 NaN       1.0  ",
      "text/html": "<div>\n<style scoped>\n    .dataframe tbody tr th:only-of-type {\n        vertical-align: middle;\n    }\n\n    .dataframe tbody tr th {\n        vertical-align: top;\n    }\n\n    .dataframe thead th {\n        text-align: right;\n    }\n</style>\n<table border=\"1\" class=\"dataframe\">\n  <thead>\n    <tr style=\"text-align: right;\">\n      <th></th>\n      <th>eventdate</th>\n      <th>event_id</th>\n      <th>reason</th>\n      <th>action</th>\n      <th>appclass</th>\n      <th>appname</th>\n      <th>urlcategory</th>\n      <th>clientIP</th>\n      <th>deviceName</th>\n      <th>user</th>\n      <th>hostname</th>\n      <th>count</th>\n    </tr>\n  </thead>\n  <tbody>\n    <tr>\n      <th>count</th>\n      <td>300000</td>\n      <td>3.000000e+05</td>\n      <td>300000</td>\n      <td>300000</td>\n      <td>300000</td>\n      <td>300000</td>\n      <td>300000</td>\n      <td>300000</td>\n      <td>207538</td>\n      <td>300000</td>\n      <td>300000</td>\n      <td>300000.0</td>\n    </tr>\n    <tr>\n      <th>unique</th>\n      <td>1</td>\n      <td>NaN</td>\n      <td>18</td>\n      <td>1</td>\n      <td>7</td>\n      <td>11</td>\n      <td>45</td>\n      <td>2871</td>\n      <td>3040</td>\n      <td>4198</td>\n      <td>1211</td>\n      <td>NaN</td>\n    </tr>\n    <tr>\n      <th>top</th>\n      <td>2/9/21</td>\n      <td>NaN</td>\n      <td>Not allowed to browse this category</td>\n      <td>Blocked</td>\n      <td>General Browsing</td>\n      <td>General Browsing</td>\n      <td>Gambling</td>\n      <td>192.168.0.19</td>\n      <td>APN0JG5J1300F8</td>\n      <td>jahan.behbahany@nike.com</td>\n      <td>ip-orp.sbtech.info</td>\n      <td>NaN</td>\n    </tr>\n    <tr>\n      <th>freq</th>\n      <td>300000</td>\n      <td>NaN</td>\n      <td>248534</td>\n      <td>300000</td>\n      <td>219311</td>\n      <td>219311</td>\n      <td>82993</td>\n      <td>80485</td>\n      <td>81895</td>\n      <td>81895</td>\n      <td>81891</td>\n      <td>NaN</td>\n    </tr>\n    <tr>\n      <th>mean</th>\n      <td>NaN</td>\n      <td>6.930000e+18</td>\n      <td>NaN</td>\n      <td>NaN</td>\n      <td>NaN</td>\n      <td>NaN</td>\n      <td>NaN</td>\n      <td>NaN</td>\n      <td>NaN</td>\n      <td>NaN</td>\n      <td>NaN</td>\n      <td>1.0</td>\n    </tr>\n    <tr>\n      <th>std</th>\n      <td>NaN</td>\n      <td>2.905912e+07</td>\n      <td>NaN</td>\n      <td>NaN</td>\n      <td>NaN</td>\n      <td>NaN</td>\n      <td>NaN</td>\n      <td>NaN</td>\n      <td>NaN</td>\n      <td>NaN</td>\n      <td>NaN</td>\n      <td>0.0</td>\n    </tr>\n    <tr>\n      <th>min</th>\n      <td>NaN</td>\n      <td>6.930000e+18</td>\n      <td>NaN</td>\n      <td>NaN</td>\n      <td>NaN</td>\n      <td>NaN</td>\n      <td>NaN</td>\n      <td>NaN</td>\n      <td>NaN</td>\n      <td>NaN</td>\n      <td>NaN</td>\n      <td>1.0</td>\n    </tr>\n    <tr>\n      <th>25%</th>\n      <td>NaN</td>\n      <td>6.930000e+18</td>\n      <td>NaN</td>\n      <td>NaN</td>\n      <td>NaN</td>\n      <td>NaN</td>\n      <td>NaN</td>\n      <td>NaN</td>\n      <td>NaN</td>\n      <td>NaN</td>\n      <td>NaN</td>\n      <td>1.0</td>\n    </tr>\n    <tr>\n      <th>50%</th>\n      <td>NaN</td>\n      <td>6.930000e+18</td>\n      <td>NaN</td>\n      <td>NaN</td>\n      <td>NaN</td>\n      <td>NaN</td>\n      <td>NaN</td>\n      <td>NaN</td>\n      <td>NaN</td>\n      <td>NaN</td>\n      <td>NaN</td>\n      <td>1.0</td>\n    </tr>\n    <tr>\n      <th>75%</th>\n      <td>NaN</td>\n      <td>6.930000e+18</td>\n      <td>NaN</td>\n      <td>NaN</td>\n      <td>NaN</td>\n      <td>NaN</td>\n      <td>NaN</td>\n      <td>NaN</td>\n      <td>NaN</td>\n      <td>NaN</td>\n      <td>NaN</td>\n      <td>1.0</td>\n    </tr>\n    <tr>\n      <th>max</th>\n      <td>NaN</td>\n      <td>6.930000e+18</td>\n      <td>NaN</td>\n      <td>NaN</td>\n      <td>NaN</td>\n      <td>NaN</td>\n      <td>NaN</td>\n      <td>NaN</td>\n      <td>NaN</td>\n      <td>NaN</td>\n      <td>NaN</td>\n      <td>1.0</td>\n    </tr>\n  </tbody>\n</table>\n</div>"
     },
     "execution_count": 223,
     "metadata": {},
     "output_type": "execute_result"
    }
   ],
   "source": [
    "blocks.describe(include=\"all\")"
   ],
   "metadata": {
    "collapsed": false,
    "pycharm": {
     "name": "#%%\n"
    }
   }
  },
  {
   "cell_type": "code",
   "execution_count": 225,
   "outputs": [
    {
     "data": {
      "text/plain": "Index               128\neventdate      18900000\nevent_id        2400000\nreason         28388247\naction         19200000\nappclass       21415239\nappname        21213759\nurlcategory    22066509\nclientIP       20707488\ndeviceName     17673722\nuser           24214012\nhostname       22395842\ncount           2400000\ndtype: int64"
     },
     "execution_count": 225,
     "metadata": {},
     "output_type": "execute_result"
    }
   ],
   "source": [
    "blocks.memory_usage(deep=True)"
   ],
   "metadata": {
    "collapsed": false,
    "pycharm": {
     "name": "#%%\n"
    }
   }
  },
  {
   "cell_type": "code",
   "execution_count": 233,
   "outputs": [
    {
     "data": {
      "text/plain": "0.20579895563423634"
     },
     "execution_count": 233,
     "metadata": {},
     "output_type": "execute_result"
    }
   ],
   "source": [
    "blocks.memory_usage(deep=True).sum()/1024/1024/1024"
   ],
   "metadata": {
    "collapsed": false,
    "pycharm": {
     "name": "#%%\n"
    }
   }
  },
  {
   "cell_type": "code",
   "execution_count": null,
   "outputs": [],
   "source": [],
   "metadata": {
    "collapsed": false,
    "pycharm": {
     "name": "#%%\n"
    }
   }
  }
 ],
 "metadata": {
  "kernelspec": {
   "display_name": "Python 3",
   "language": "python",
   "name": "python3"
  },
  "language_info": {
   "codemirror_mode": {
    "name": "ipython",
    "version": 2
   },
   "file_extension": ".py",
   "mimetype": "text/x-python",
   "name": "python",
   "nbconvert_exporter": "python",
   "pygments_lexer": "ipython2",
   "version": "2.7.6"
  }
 },
 "nbformat": 4,
 "nbformat_minor": 0
}